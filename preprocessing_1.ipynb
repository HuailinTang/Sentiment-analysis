{
  "nbformat": 4,
  "nbformat_minor": 0,
  "metadata": {
    "colab": {
      "provenance": []
    },
    "kernelspec": {
      "name": "python3",
      "display_name": "Python 3"
    },
    "language_info": {
      "name": "python"
    }
  },
  "cells": [
    {
      "cell_type": "code",
      "source": [
        "import pandas as pd\n",
        "import re  \n",
        "from google.colab import drive\n",
        "import os\n",
        "import fasttext\n",
        "import numpy as np\n",
        "import nltk\n",
        "import itertools\n",
        "nltk.download('vader_lexicon')\n",
        "from nltk.sentiment.vader import SentimentIntensityAnalyzer"
      ],
      "metadata": {
        "colab": {
          "base_uri": "https://localhost:8080/"
        },
        "id": "35ynNy4O49Iu",
        "outputId": "6f4d6650-a227-477c-950e-3e335a3a3db8"
      },
      "execution_count": null,
      "outputs": [
        {
          "output_type": "stream",
          "name": "stderr",
          "text": [
            "[nltk_data] Downloading package vader_lexicon to /root/nltk_data...\n",
            "[nltk_data]   Package vader_lexicon is already up-to-date!\n"
          ]
        }
      ]
    },
    {
      "cell_type": "code",
      "source": [
        "drive.mount('/content/drive', force_remount=True)"
      ],
      "metadata": {
        "colab": {
          "base_uri": "https://localhost:8080/"
        },
        "id": "H4B8jMIg4_jV",
        "outputId": "509458d8-b65e-45e0-b0eb-c977d6cdea9c"
      },
      "execution_count": null,
      "outputs": [
        {
          "output_type": "stream",
          "name": "stdout",
          "text": [
            "Mounted at /content/drive\n"
          ]
        }
      ]
    },
    {
      "cell_type": "code",
      "source": [
        "df=pd.read_csv('./drive/MyDrive/Comp 642 data/tweets_preprocessed.csv', lineterminator='\\n')"
      ],
      "metadata": {
        "id": "TJx6VHyc5Ax7"
      },
      "execution_count": null,
      "outputs": []
    },
    {
      "cell_type": "markdown",
      "source": [
        "Only use English tweets, which are identified by fasttext librarys."
      ],
      "metadata": {
        "id": "tGN6b7wF4ygD"
      }
    },
    {
      "cell_type": "code",
      "source": [
        "model = fasttext.load_model('./drive/MyDrive/Comp 642 data/lid.176.bin')\n",
        "def detect_lang(text):\n",
        "    try:\n",
        "        language = model.predict(text)\n",
        "        return language\n",
        "    except:\n",
        "        return 'unknown'"
      ],
      "metadata": {
        "colab": {
          "base_uri": "https://localhost:8080/"
        },
        "id": "rwTfZeVz4xoT",
        "outputId": "6afe5391-7db1-451a-bd6f-c12085bdb09f"
      },
      "execution_count": null,
      "outputs": [
        {
          "output_type": "stream",
          "name": "stderr",
          "text": [
            "Warning : `load_model` does not return WordVectorModel or SupervisedModel any more, but a `FastText` object which is very similar.\n"
          ]
        }
      ]
    },
    {
      "cell_type": "code",
      "source": [
        "cleaned_dataset = df.copy()\n",
        "cleaned_dataset['language'] = cleaned_dataset['text'].apply(detect_lang)"
      ],
      "metadata": {
        "id": "p6IyKUIB449w"
      },
      "execution_count": null,
      "outputs": []
    },
    {
      "cell_type": "code",
      "source": [
        "cleaned_dataset_eng = cleaned_dataset[cleaned_dataset['language'].apply(lambda x: x[0] == ('__label__en',))]"
      ],
      "metadata": {
        "id": "-d7QLcla4x59"
      },
      "execution_count": null,
      "outputs": []
    },
    {
      "cell_type": "code",
      "source": [
        "cleaned_dataset_eng = cleaned_dataset_eng[cleaned_dataset_eng['language'].apply(lambda x: float(x[1][0]) > 0.5)]"
      ],
      "metadata": {
        "id": "mobGip1Ucj1Z"
      },
      "execution_count": null,
      "outputs": []
    },
    {
      "cell_type": "code",
      "source": [
        "cleaned_dataset_eng = cleaned_dataset_eng[cleaned_dataset['text'] != '']"
      ],
      "metadata": {
        "colab": {
          "base_uri": "https://localhost:8080/"
        },
        "id": "K40LmmqmP3Mi",
        "outputId": "026a88a6-afa9-4690-c38b-b7db361bb84f"
      },
      "execution_count": null,
      "outputs": [
        {
          "output_type": "stream",
          "name": "stderr",
          "text": [
            "<ipython-input-115-8ef8fcbc428c>:1: UserWarning: Boolean Series key will be reindexed to match DataFrame index.\n",
            "  cleaned_dataset_eng = cleaned_dataset_eng[cleaned_dataset['text'] != '']\n"
          ]
        }
      ]
    },
    {
      "cell_type": "code",
      "source": [
        "cleaned_dataset_eng.head()"
      ],
      "metadata": {
        "colab": {
          "base_uri": "https://localhost:8080/",
          "height": 206
        },
        "id": "90if5-RMehMR",
        "outputId": "d6f173a8-febc-40db-ea6b-715b0783f5b4"
      },
      "execution_count": null,
      "outputs": [
        {
          "output_type": "execute_result",
          "data": {
            "text/plain": [
              "                   created_at  \\\n",
              "7   2022-11-02 07:19:51+00:00   \n",
              "12  2022-11-02 07:19:51+00:00   \n",
              "14  2022-11-02 07:19:51+00:00   \n",
              "25  2022-11-02 07:19:51+00:00   \n",
              "28  2022-11-02 07:19:51+00:00   \n",
              "\n",
              "                                                 text  \\\n",
              "7   RT @darylginn: did it hurt? when they called y...   \n",
              "12  RT @VoteWithARMY: I vote #YetToCome as #TheMus...   \n",
              "14  RT @SexyNatG: #retweet if you want to come rub...   \n",
              "25  RT @thekayanova: I’m not sure how, when, or wh...   \n",
              "28  having to complete nilou's story quest made me...   \n",
              "\n",
              "                                  language  \n",
              "7   ((__label__en,), [0.9719023704528809])  \n",
              "12  ((__label__en,), [0.8037695288658142])  \n",
              "14  ((__label__en,), [0.7123409509658813])  \n",
              "25  ((__label__en,), [0.8766927123069763])  \n",
              "28  ((__label__en,), [0.8141809701919556])  "
            ],
            "text/html": [
              "\n",
              "  <div id=\"df-a4341554-96a8-47e1-b791-7ed6a4e59a04\">\n",
              "    <div class=\"colab-df-container\">\n",
              "      <div>\n",
              "<style scoped>\n",
              "    .dataframe tbody tr th:only-of-type {\n",
              "        vertical-align: middle;\n",
              "    }\n",
              "\n",
              "    .dataframe tbody tr th {\n",
              "        vertical-align: top;\n",
              "    }\n",
              "\n",
              "    .dataframe thead th {\n",
              "        text-align: right;\n",
              "    }\n",
              "</style>\n",
              "<table border=\"1\" class=\"dataframe\">\n",
              "  <thead>\n",
              "    <tr style=\"text-align: right;\">\n",
              "      <th></th>\n",
              "      <th>created_at</th>\n",
              "      <th>text</th>\n",
              "      <th>language</th>\n",
              "    </tr>\n",
              "  </thead>\n",
              "  <tbody>\n",
              "    <tr>\n",
              "      <th>7</th>\n",
              "      <td>2022-11-02 07:19:51+00:00</td>\n",
              "      <td>RT @darylginn: did it hurt? when they called y...</td>\n",
              "      <td>((__label__en,), [0.9719023704528809])</td>\n",
              "    </tr>\n",
              "    <tr>\n",
              "      <th>12</th>\n",
              "      <td>2022-11-02 07:19:51+00:00</td>\n",
              "      <td>RT @VoteWithARMY: I vote #YetToCome as #TheMus...</td>\n",
              "      <td>((__label__en,), [0.8037695288658142])</td>\n",
              "    </tr>\n",
              "    <tr>\n",
              "      <th>14</th>\n",
              "      <td>2022-11-02 07:19:51+00:00</td>\n",
              "      <td>RT @SexyNatG: #retweet if you want to come rub...</td>\n",
              "      <td>((__label__en,), [0.7123409509658813])</td>\n",
              "    </tr>\n",
              "    <tr>\n",
              "      <th>25</th>\n",
              "      <td>2022-11-02 07:19:51+00:00</td>\n",
              "      <td>RT @thekayanova: I’m not sure how, when, or wh...</td>\n",
              "      <td>((__label__en,), [0.8766927123069763])</td>\n",
              "    </tr>\n",
              "    <tr>\n",
              "      <th>28</th>\n",
              "      <td>2022-11-02 07:19:51+00:00</td>\n",
              "      <td>having to complete nilou's story quest made me...</td>\n",
              "      <td>((__label__en,), [0.8141809701919556])</td>\n",
              "    </tr>\n",
              "  </tbody>\n",
              "</table>\n",
              "</div>\n",
              "      <button class=\"colab-df-convert\" onclick=\"convertToInteractive('df-a4341554-96a8-47e1-b791-7ed6a4e59a04')\"\n",
              "              title=\"Convert this dataframe to an interactive table.\"\n",
              "              style=\"display:none;\">\n",
              "        \n",
              "  <svg xmlns=\"http://www.w3.org/2000/svg\" height=\"24px\"viewBox=\"0 0 24 24\"\n",
              "       width=\"24px\">\n",
              "    <path d=\"M0 0h24v24H0V0z\" fill=\"none\"/>\n",
              "    <path d=\"M18.56 5.44l.94 2.06.94-2.06 2.06-.94-2.06-.94-.94-2.06-.94 2.06-2.06.94zm-11 1L8.5 8.5l.94-2.06 2.06-.94-2.06-.94L8.5 2.5l-.94 2.06-2.06.94zm10 10l.94 2.06.94-2.06 2.06-.94-2.06-.94-.94-2.06-.94 2.06-2.06.94z\"/><path d=\"M17.41 7.96l-1.37-1.37c-.4-.4-.92-.59-1.43-.59-.52 0-1.04.2-1.43.59L10.3 9.45l-7.72 7.72c-.78.78-.78 2.05 0 2.83L4 21.41c.39.39.9.59 1.41.59.51 0 1.02-.2 1.41-.59l7.78-7.78 2.81-2.81c.8-.78.8-2.07 0-2.86zM5.41 20L4 18.59l7.72-7.72 1.47 1.35L5.41 20z\"/>\n",
              "  </svg>\n",
              "      </button>\n",
              "      \n",
              "  <style>\n",
              "    .colab-df-container {\n",
              "      display:flex;\n",
              "      flex-wrap:wrap;\n",
              "      gap: 12px;\n",
              "    }\n",
              "\n",
              "    .colab-df-convert {\n",
              "      background-color: #E8F0FE;\n",
              "      border: none;\n",
              "      border-radius: 50%;\n",
              "      cursor: pointer;\n",
              "      display: none;\n",
              "      fill: #1967D2;\n",
              "      height: 32px;\n",
              "      padding: 0 0 0 0;\n",
              "      width: 32px;\n",
              "    }\n",
              "\n",
              "    .colab-df-convert:hover {\n",
              "      background-color: #E2EBFA;\n",
              "      box-shadow: 0px 1px 2px rgba(60, 64, 67, 0.3), 0px 1px 3px 1px rgba(60, 64, 67, 0.15);\n",
              "      fill: #174EA6;\n",
              "    }\n",
              "\n",
              "    [theme=dark] .colab-df-convert {\n",
              "      background-color: #3B4455;\n",
              "      fill: #D2E3FC;\n",
              "    }\n",
              "\n",
              "    [theme=dark] .colab-df-convert:hover {\n",
              "      background-color: #434B5C;\n",
              "      box-shadow: 0px 1px 3px 1px rgba(0, 0, 0, 0.15);\n",
              "      filter: drop-shadow(0px 1px 2px rgba(0, 0, 0, 0.3));\n",
              "      fill: #FFFFFF;\n",
              "    }\n",
              "  </style>\n",
              "\n",
              "      <script>\n",
              "        const buttonEl =\n",
              "          document.querySelector('#df-a4341554-96a8-47e1-b791-7ed6a4e59a04 button.colab-df-convert');\n",
              "        buttonEl.style.display =\n",
              "          google.colab.kernel.accessAllowed ? 'block' : 'none';\n",
              "\n",
              "        async function convertToInteractive(key) {\n",
              "          const element = document.querySelector('#df-a4341554-96a8-47e1-b791-7ed6a4e59a04');\n",
              "          const dataTable =\n",
              "            await google.colab.kernel.invokeFunction('convertToInteractive',\n",
              "                                                     [key], {});\n",
              "          if (!dataTable) return;\n",
              "\n",
              "          const docLinkHtml = 'Like what you see? Visit the ' +\n",
              "            '<a target=\"_blank\" href=https://colab.research.google.com/notebooks/data_table.ipynb>data table notebook</a>'\n",
              "            + ' to learn more about interactive tables.';\n",
              "          element.innerHTML = '';\n",
              "          dataTable['output_type'] = 'display_data';\n",
              "          await google.colab.output.renderOutput(dataTable, element);\n",
              "          const docLink = document.createElement('div');\n",
              "          docLink.innerHTML = docLinkHtml;\n",
              "          element.appendChild(docLink);\n",
              "        }\n",
              "      </script>\n",
              "    </div>\n",
              "  </div>\n",
              "  "
            ]
          },
          "metadata": {},
          "execution_count": 116
        }
      ]
    },
    {
      "cell_type": "code",
      "source": [
        "cleaned_dataset_eng.shape"
      ],
      "metadata": {
        "colab": {
          "base_uri": "https://localhost:8080/"
        },
        "id": "DTroXqOpekxk",
        "outputId": "79661b1e-7229-4b52-a7de-91ffde4e6a1a"
      },
      "execution_count": null,
      "outputs": [
        {
          "output_type": "execute_result",
          "data": {
            "text/plain": [
              "(804807, 3)"
            ]
          },
          "metadata": {},
          "execution_count": 117
        }
      ]
    },
    {
      "cell_type": "code",
      "source": [
        "# Write the results to a CSV file\n",
        "cleaned_dataset_eng.to_csv(\"./drive/MyDrive/Comp 642 data/tweets_english.csv\",  mode='w', index=False)"
      ],
      "metadata": {
        "id": "PcHvBBmN4yBq"
      },
      "execution_count": null,
      "outputs": []
    },
    {
      "cell_type": "markdown",
      "source": [
        "# Clean the dataset"
      ],
      "metadata": {
        "id": "oaDvyUGMRBom"
      }
    },
    {
      "cell_type": "code",
      "source": [
        "# Define regular expressions\n",
        "emoji_regex = re.compile(\"[\"\n",
        "        u\"\\U0001F600-\\U0001F64F\"  # emoticons\n",
        "        u\"\\U0001F300-\\U0001F5FF\"  # symbols & pictographs\n",
        "        u\"\\U0001F680-\\U0001F6FF\"  # transport & map symbols\n",
        "        u\"\\U0001F1E0-\\U0001F1FF\"  # flags (iOS)\n",
        "        u\"\\U00002500-\\U00002BEF\"  # chinese char\n",
        "        u\"\\U00002702-\\U000027B0\"\n",
        "        u\"\\U00002702-\\U000027B0\"\n",
        "        u\"\\U000024C2-\\U0001F251\"\n",
        "        u\"\\U0001f926-\\U0001f937\"\n",
        "        u\"\\U00010000-\\U0010ffff\"\n",
        "        u\"\\u2640-\\u2642\" \n",
        "        u\"\\u2600-\\u2B55\"\n",
        "        u\"\\u200d\"\n",
        "        u\"\\u23cf\"\n",
        "        u\"\\u23e9\"\n",
        "        u\"\\u231a\"\n",
        "        u\"\\ufe0f\"  # dingbats\n",
        "        u\"\\u3030\"\n",
        "                      \"]+\", re.UNICODE)\n",
        "not_emoji_regex = re.compile(\"[^[\\U0001F300-\\U0001F6FF]]\")\n",
        "emoticon_regex = re.compile(\"(?::|;|=)(?:-)?(?:\\\\)|D|P)\")  # From https://stackoverflow.com/questions/5862490/how-to-match-emoticons-with-regular-expressions\n",
        "not_emoticon_regex = re.compile(\"^(?::|;|=)(?:-)?(?:\\\\)|D|P)\")\n",
        "url_regex = re.compile(\"(https?://)?([\\\\w\\\\-])+\\\\.{1}([a-zA-Z]{2,63})([/\\\\w-]*)*/?\\\\??([^#\\n\\r]*)?#?([^\\n\\r]*)\")  # Simpler => (http[^ ]*)|(www\\.[^ ]*)\n",
        "mention_regex = re.compile(\"(@[\\\\w_-]+)\")\n",
        "hashtag_regex = re.compile(\"(#[\\\\w_-]+)\")"
      ],
      "metadata": {
        "id": "APwz3uq74yEm"
      },
      "execution_count": null,
      "outputs": []
    },
    {
      "cell_type": "code",
      "source": [
        "cleaned_dataset_eng['text'] = cleaned_dataset_eng['text'].str.replace(mention_regex, \" \")\n",
        "cleaned_dataset_eng['text'] = cleaned_dataset_eng['text'].str.replace(url_regex, \" \")\n",
        "cleaned_dataset_eng['text'] = cleaned_dataset_eng['text'].str.replace(hashtag_regex, \" \")\n",
        "cleaned_dataset_eng['text'] = cleaned_dataset_eng['text'].str.replace(r\"\\s+\", \" \")\n",
        "cleaned_dataset_eng['text'] = cleaned_dataset_eng['text'].str.replace(\"RT : \", \" \") # remove RT\n",
        "cleaned_dataset_eng['text'] = cleaned_dataset_eng['text'].str.replace('^[\\s]+|[\\s]+$', \"\") # remove starting and trailing space\n",
        "\n",
        "# Build emoticons dictionary (might be not the optimal one, but it should cover the majority of the most used emoticons)\n",
        "emots = [\"\".join(emot) for emot in itertools.product([':', ';', ':-', ';-'], [')', '(', ']', '[', 'D', 'o', 'O', 'P', 'p'])]\n",
        "\n",
        "# Helper function for escaping special characters\n",
        "def escape_regex(r):\n",
        "    return re.sub(r'([()\\[\\]])', r'\\\\\\1', r)\n",
        "\n",
        "# Emoticon regular expression\n",
        "regex1 = f\"({'|'.join([escape_regex(emot) for emot in emots])})\"\n",
        "\n",
        "# Removing punctuation, but keeping the emoticons and ' (https://stackoverflow.com/questions/23447261/remove-punctuation-but-keeping-emoticons)\n",
        "# We just match (emoticon)|punctuation (note that emoticons are in a capturing group) and then replace the matches with the result of capturing group 1 \n",
        "# (so if it's an emoticon, we have replacement=this emoticon, if it's a punctuation char, we have replacement=nothing)\n",
        "cleaned_dataset_eng['text'] = cleaned_dataset_eng['text'].apply(lambda x: re.sub(f\"({regex1}|[^\\\\\\P{{P}}'@#]+)\", r\"\\1 \", x))"
      ],
      "metadata": {
        "colab": {
          "base_uri": "https://localhost:8080/"
        },
        "id": "cv-3j-3lRSOE",
        "outputId": "ed905ab0-d621-47e0-f86e-19169f5d0c30"
      },
      "execution_count": null,
      "outputs": [
        {
          "output_type": "stream",
          "name": "stderr",
          "text": [
            "<ipython-input-120-8c9115881a24>:4: FutureWarning: The default value of regex will change from True to False in a future version.\n",
            "  cleaned_dataset_eng['text'] = cleaned_dataset_eng['text'].str.replace(r\"\\s+\", \" \")\n",
            "<ipython-input-120-8c9115881a24>:6: FutureWarning: The default value of regex will change from True to False in a future version.\n",
            "  cleaned_dataset_eng['text'] = cleaned_dataset_eng['text'].str.replace('^[\\s]+|[\\s]+$', \"\") # remove starting and trailing space\n"
          ]
        }
      ]
    },
    {
      "cell_type": "code",
      "source": [
        "cleaned_dataset_eng = cleaned_dataset_eng[cleaned_dataset_eng['text'] != '']\n",
        "cleaned_dataset_eng = cleaned_dataset_eng[cleaned_dataset_eng['text'].notna()]"
      ],
      "metadata": {
        "id": "sM9k8fF3TG3o"
      },
      "execution_count": null,
      "outputs": []
    },
    {
      "cell_type": "code",
      "source": [
        "cleaned_dataset_eng.head(10)"
      ],
      "metadata": {
        "colab": {
          "base_uri": "https://localhost:8080/",
          "height": 363
        },
        "id": "oYQaf4qfS9Lu",
        "outputId": "c9b7e00b-aa7e-45d2-d4e9-7a7ee5ee2fe1"
      },
      "execution_count": null,
      "outputs": [
        {
          "output_type": "execute_result",
          "data": {
            "text/plain": [
              "                   created_at  \\\n",
              "7   2022-11-02 07:19:51+00:00   \n",
              "12  2022-11-02 07:19:51+00:00   \n",
              "14  2022-11-02 07:19:51+00:00   \n",
              "25  2022-11-02 07:19:51+00:00   \n",
              "28  2022-11-02 07:19:51+00:00   \n",
              "34  2022-11-02 07:19:51+00:00   \n",
              "38  2022-11-02 07:19:51+00:00   \n",
              "42  2022-11-02 07:19:51+00:00   \n",
              "43  2022-11-02 07:19:51+00:00   \n",
              "67  2022-11-02 07:19:52+00:00   \n",
              "\n",
              "                                                 text  \\\n",
              "7   did it hurt? when they called your finished de...   \n",
              "12  I vote as of the year at the 2022  People’s Ch...   \n",
              "14               if you want to come rub oil on me 🧴    \n",
              "25  I’m not sure how, when, or why, but I have a f...   \n",
              "28  having to complete nilou 's story quest made m...   \n",
              "34  It took almost 10 years but BTS finally have s...   \n",
              "38  cuz i don 't get the whole meeting lol maybe o...   \n",
              "42            Remember to wear that smile everyday 😁    \n",
              "43  When you’ve been warmongering as long as  Puti...   \n",
              "67  SHAME ON KEYSTONE BANK and it’s Ceo, OLANIRAN ...   \n",
              "\n",
              "                                  language  \n",
              "7   ((__label__en,), [0.9719023704528809])  \n",
              "12  ((__label__en,), [0.8037695288658142])  \n",
              "14  ((__label__en,), [0.7123409509658813])  \n",
              "25  ((__label__en,), [0.8766927123069763])  \n",
              "28  ((__label__en,), [0.8141809701919556])  \n",
              "34  ((__label__en,), [0.9826110601425171])  \n",
              "38  ((__label__en,), [0.8963832855224609])  \n",
              "42  ((__label__en,), [0.7248052358627319])  \n",
              "43  ((__label__en,), [0.7731037139892578])  \n",
              "67  ((__label__en,), [0.5829444527626038])  "
            ],
            "text/html": [
              "\n",
              "  <div id=\"df-40e9a84e-8701-4abb-b581-15ba21898ba2\">\n",
              "    <div class=\"colab-df-container\">\n",
              "      <div>\n",
              "<style scoped>\n",
              "    .dataframe tbody tr th:only-of-type {\n",
              "        vertical-align: middle;\n",
              "    }\n",
              "\n",
              "    .dataframe tbody tr th {\n",
              "        vertical-align: top;\n",
              "    }\n",
              "\n",
              "    .dataframe thead th {\n",
              "        text-align: right;\n",
              "    }\n",
              "</style>\n",
              "<table border=\"1\" class=\"dataframe\">\n",
              "  <thead>\n",
              "    <tr style=\"text-align: right;\">\n",
              "      <th></th>\n",
              "      <th>created_at</th>\n",
              "      <th>text</th>\n",
              "      <th>language</th>\n",
              "    </tr>\n",
              "  </thead>\n",
              "  <tbody>\n",
              "    <tr>\n",
              "      <th>7</th>\n",
              "      <td>2022-11-02 07:19:51+00:00</td>\n",
              "      <td>did it hurt? when they called your finished de...</td>\n",
              "      <td>((__label__en,), [0.9719023704528809])</td>\n",
              "    </tr>\n",
              "    <tr>\n",
              "      <th>12</th>\n",
              "      <td>2022-11-02 07:19:51+00:00</td>\n",
              "      <td>I vote as of the year at the 2022  People’s Ch...</td>\n",
              "      <td>((__label__en,), [0.8037695288658142])</td>\n",
              "    </tr>\n",
              "    <tr>\n",
              "      <th>14</th>\n",
              "      <td>2022-11-02 07:19:51+00:00</td>\n",
              "      <td>if you want to come rub oil on me 🧴</td>\n",
              "      <td>((__label__en,), [0.7123409509658813])</td>\n",
              "    </tr>\n",
              "    <tr>\n",
              "      <th>25</th>\n",
              "      <td>2022-11-02 07:19:51+00:00</td>\n",
              "      <td>I’m not sure how, when, or why, but I have a f...</td>\n",
              "      <td>((__label__en,), [0.8766927123069763])</td>\n",
              "    </tr>\n",
              "    <tr>\n",
              "      <th>28</th>\n",
              "      <td>2022-11-02 07:19:51+00:00</td>\n",
              "      <td>having to complete nilou 's story quest made m...</td>\n",
              "      <td>((__label__en,), [0.8141809701919556])</td>\n",
              "    </tr>\n",
              "    <tr>\n",
              "      <th>34</th>\n",
              "      <td>2022-11-02 07:19:51+00:00</td>\n",
              "      <td>It took almost 10 years but BTS finally have s...</td>\n",
              "      <td>((__label__en,), [0.9826110601425171])</td>\n",
              "    </tr>\n",
              "    <tr>\n",
              "      <th>38</th>\n",
              "      <td>2022-11-02 07:19:51+00:00</td>\n",
              "      <td>cuz i don 't get the whole meeting lol maybe o...</td>\n",
              "      <td>((__label__en,), [0.8963832855224609])</td>\n",
              "    </tr>\n",
              "    <tr>\n",
              "      <th>42</th>\n",
              "      <td>2022-11-02 07:19:51+00:00</td>\n",
              "      <td>Remember to wear that smile everyday 😁</td>\n",
              "      <td>((__label__en,), [0.7248052358627319])</td>\n",
              "    </tr>\n",
              "    <tr>\n",
              "      <th>43</th>\n",
              "      <td>2022-11-02 07:19:51+00:00</td>\n",
              "      <td>When you’ve been warmongering as long as  Puti...</td>\n",
              "      <td>((__label__en,), [0.7731037139892578])</td>\n",
              "    </tr>\n",
              "    <tr>\n",
              "      <th>67</th>\n",
              "      <td>2022-11-02 07:19:52+00:00</td>\n",
              "      <td>SHAME ON KEYSTONE BANK and it’s Ceo, OLANIRAN ...</td>\n",
              "      <td>((__label__en,), [0.5829444527626038])</td>\n",
              "    </tr>\n",
              "  </tbody>\n",
              "</table>\n",
              "</div>\n",
              "      <button class=\"colab-df-convert\" onclick=\"convertToInteractive('df-40e9a84e-8701-4abb-b581-15ba21898ba2')\"\n",
              "              title=\"Convert this dataframe to an interactive table.\"\n",
              "              style=\"display:none;\">\n",
              "        \n",
              "  <svg xmlns=\"http://www.w3.org/2000/svg\" height=\"24px\"viewBox=\"0 0 24 24\"\n",
              "       width=\"24px\">\n",
              "    <path d=\"M0 0h24v24H0V0z\" fill=\"none\"/>\n",
              "    <path d=\"M18.56 5.44l.94 2.06.94-2.06 2.06-.94-2.06-.94-.94-2.06-.94 2.06-2.06.94zm-11 1L8.5 8.5l.94-2.06 2.06-.94-2.06-.94L8.5 2.5l-.94 2.06-2.06.94zm10 10l.94 2.06.94-2.06 2.06-.94-2.06-.94-.94-2.06-.94 2.06-2.06.94z\"/><path d=\"M17.41 7.96l-1.37-1.37c-.4-.4-.92-.59-1.43-.59-.52 0-1.04.2-1.43.59L10.3 9.45l-7.72 7.72c-.78.78-.78 2.05 0 2.83L4 21.41c.39.39.9.59 1.41.59.51 0 1.02-.2 1.41-.59l7.78-7.78 2.81-2.81c.8-.78.8-2.07 0-2.86zM5.41 20L4 18.59l7.72-7.72 1.47 1.35L5.41 20z\"/>\n",
              "  </svg>\n",
              "      </button>\n",
              "      \n",
              "  <style>\n",
              "    .colab-df-container {\n",
              "      display:flex;\n",
              "      flex-wrap:wrap;\n",
              "      gap: 12px;\n",
              "    }\n",
              "\n",
              "    .colab-df-convert {\n",
              "      background-color: #E8F0FE;\n",
              "      border: none;\n",
              "      border-radius: 50%;\n",
              "      cursor: pointer;\n",
              "      display: none;\n",
              "      fill: #1967D2;\n",
              "      height: 32px;\n",
              "      padding: 0 0 0 0;\n",
              "      width: 32px;\n",
              "    }\n",
              "\n",
              "    .colab-df-convert:hover {\n",
              "      background-color: #E2EBFA;\n",
              "      box-shadow: 0px 1px 2px rgba(60, 64, 67, 0.3), 0px 1px 3px 1px rgba(60, 64, 67, 0.15);\n",
              "      fill: #174EA6;\n",
              "    }\n",
              "\n",
              "    [theme=dark] .colab-df-convert {\n",
              "      background-color: #3B4455;\n",
              "      fill: #D2E3FC;\n",
              "    }\n",
              "\n",
              "    [theme=dark] .colab-df-convert:hover {\n",
              "      background-color: #434B5C;\n",
              "      box-shadow: 0px 1px 3px 1px rgba(0, 0, 0, 0.15);\n",
              "      filter: drop-shadow(0px 1px 2px rgba(0, 0, 0, 0.3));\n",
              "      fill: #FFFFFF;\n",
              "    }\n",
              "  </style>\n",
              "\n",
              "      <script>\n",
              "        const buttonEl =\n",
              "          document.querySelector('#df-40e9a84e-8701-4abb-b581-15ba21898ba2 button.colab-df-convert');\n",
              "        buttonEl.style.display =\n",
              "          google.colab.kernel.accessAllowed ? 'block' : 'none';\n",
              "\n",
              "        async function convertToInteractive(key) {\n",
              "          const element = document.querySelector('#df-40e9a84e-8701-4abb-b581-15ba21898ba2');\n",
              "          const dataTable =\n",
              "            await google.colab.kernel.invokeFunction('convertToInteractive',\n",
              "                                                     [key], {});\n",
              "          if (!dataTable) return;\n",
              "\n",
              "          const docLinkHtml = 'Like what you see? Visit the ' +\n",
              "            '<a target=\"_blank\" href=https://colab.research.google.com/notebooks/data_table.ipynb>data table notebook</a>'\n",
              "            + ' to learn more about interactive tables.';\n",
              "          element.innerHTML = '';\n",
              "          dataTable['output_type'] = 'display_data';\n",
              "          await google.colab.output.renderOutput(dataTable, element);\n",
              "          const docLink = document.createElement('div');\n",
              "          docLink.innerHTML = docLinkHtml;\n",
              "          element.appendChild(docLink);\n",
              "        }\n",
              "      </script>\n",
              "    </div>\n",
              "  </div>\n",
              "  "
            ]
          },
          "metadata": {},
          "execution_count": 122
        }
      ]
    },
    {
      "cell_type": "code",
      "source": [
        "cleaned_dataset_eng.shape"
      ],
      "metadata": {
        "colab": {
          "base_uri": "https://localhost:8080/"
        },
        "id": "SaVmuEONToDe",
        "outputId": "a6707da9-e287-4953-99d8-243b7b8e04d4"
      },
      "execution_count": null,
      "outputs": [
        {
          "output_type": "execute_result",
          "data": {
            "text/plain": [
              "(765762, 3)"
            ]
          },
          "metadata": {},
          "execution_count": 123
        }
      ]
    },
    {
      "cell_type": "code",
      "source": [
        "# Write the results to a CSV file\n",
        "cleaned_dataset_eng.to_csv(\"./drive/MyDrive/Comp 642 data/cleaned_tweets_english.csv\", mode='w', index=False)"
      ],
      "metadata": {
        "id": "M5phX9qET1g_"
      },
      "execution_count": null,
      "outputs": []
    },
    {
      "cell_type": "markdown",
      "source": [
        "# Identify sentiment for each tweet"
      ],
      "metadata": {
        "id": "Je142-N3UDvc"
      }
    },
    {
      "cell_type": "code",
      "source": [
        "sia= SentimentIntensityAnalyzer()"
      ],
      "metadata": {
        "id": "IHq5Ei1PUDAm"
      },
      "execution_count": null,
      "outputs": []
    },
    {
      "cell_type": "code",
      "source": [
        "cleaned_dataset_eng['scores']=cleaned_dataset_eng['text'].apply(lambda body: sia.polarity_scores(body))"
      ],
      "metadata": {
        "id": "NcllZktrUDHk"
      },
      "execution_count": null,
      "outputs": []
    },
    {
      "cell_type": "code",
      "source": [
        "# https://github.com/cjhutto/vaderSentiment\n",
        "def calculate_sentiment(scores):\n",
        "    score = scores[\"compound\"]\n",
        "    if score > 0.05:\n",
        "        return 'positive'\n",
        "    elif score < -0.05:\n",
        "        return 'negative'\n",
        "    else:\n",
        "        return 'neutral'\n",
        "\n",
        "# apply function to each row of the dataframe\n",
        "cleaned_dataset_eng['sentiment'] = cleaned_dataset_eng['scores'].apply(calculate_sentiment)"
      ],
      "metadata": {
        "id": "or6-MpH6WQKt"
      },
      "execution_count": null,
      "outputs": []
    },
    {
      "cell_type": "code",
      "source": [
        "cleaned_dataset_eng.head()"
      ],
      "metadata": {
        "colab": {
          "base_uri": "https://localhost:8080/",
          "height": 424
        },
        "id": "ZIWDOXDcZM3N",
        "outputId": "84367ed3-8993-4691-8056-046c0955d9be"
      },
      "execution_count": null,
      "outputs": [
        {
          "output_type": "execute_result",
          "data": {
            "text/plain": [
              "                        created_at  \\\n",
              "7        2022-11-02 07:19:51+00:00   \n",
              "12       2022-11-02 07:19:51+00:00   \n",
              "14       2022-11-02 07:19:51+00:00   \n",
              "25       2022-11-02 07:19:51+00:00   \n",
              "28       2022-11-02 07:19:51+00:00   \n",
              "...                            ...   \n",
              "4194716  2022-11-02 07:19:49+00:00   \n",
              "4194718  2022-11-02 07:19:49+00:00   \n",
              "4194719  2022-11-02 07:19:49+00:00   \n",
              "4194733  2022-11-02 07:19:50+00:00   \n",
              "4194739  2022-11-02 07:19:50+00:00   \n",
              "\n",
              "                                                      text  \\\n",
              "7        did it hurt? when they called your finished de...   \n",
              "12       I vote as of the year at the 2022  People’s Ch...   \n",
              "14                    if you want to come rub oil on me 🧴    \n",
              "25       I’m not sure how, when, or why, but I have a f...   \n",
              "28       having to complete nilou 's story quest made m...   \n",
              "...                                                    ...   \n",
              "4194716  So you might be afraid when we say we want to ...   \n",
              "4194718  This man found a unicorn of a woman who is a b...   \n",
              "4194719  “Sometimes your joy is the source of your smil...   \n",
              "4194733  when I put “???” In a conversation, this is ex...   \n",
              "4194739  $8 dollars a month for a blue checkmark is bul...   \n",
              "\n",
              "                                       language  \\\n",
              "7        ((__label__en,), [0.9719023704528809])   \n",
              "12       ((__label__en,), [0.8037695288658142])   \n",
              "14       ((__label__en,), [0.7123409509658813])   \n",
              "25       ((__label__en,), [0.8766927123069763])   \n",
              "28       ((__label__en,), [0.8141809701919556])   \n",
              "...                                         ...   \n",
              "4194716  ((__label__en,), [0.9412142038345337])   \n",
              "4194718  ((__label__en,), [0.9331048727035522])   \n",
              "4194719  ((__label__en,), [0.7717400789260864])   \n",
              "4194733  ((__label__en,), [0.8959476947784424])   \n",
              "4194739  ((__label__en,), [0.6876944303512573])   \n",
              "\n",
              "                                                    scores sentiment  \n",
              "7        {'neg': 0.224, 'neu': 0.592, 'pos': 0.184, 'co...  negative  \n",
              "12       {'neg': 0.0, 'neu': 0.786, 'pos': 0.214, 'comp...  positive  \n",
              "14       {'neg': 0.0, 'neu': 0.86, 'pos': 0.14, 'compou...  positive  \n",
              "25       {'neg': 0.05, 'neu': 0.71, 'pos': 0.24, 'compo...  positive  \n",
              "28       {'neg': 0.0, 'neu': 0.888, 'pos': 0.112, 'comp...  positive  \n",
              "...                                                    ...       ...  \n",
              "4194716  {'neg': 0.0, 'neu': 0.833, 'pos': 0.167, 'comp...  positive  \n",
              "4194718  {'neg': 0.0, 'neu': 0.833, 'pos': 0.167, 'comp...  positive  \n",
              "4194719  {'neg': 0.0, 'neu': 0.654, 'pos': 0.346, 'comp...  positive  \n",
              "4194733  {'neg': 0.0, 'neu': 0.796, 'pos': 0.204, 'comp...  positive  \n",
              "4194739  {'neg': 0.159, 'neu': 0.753, 'pos': 0.088, 'co...  negative  \n",
              "\n",
              "[765762 rows x 5 columns]"
            ],
            "text/html": [
              "\n",
              "  <div id=\"df-a190cd12-2796-4fa4-b9e3-74dbc05ade72\">\n",
              "    <div class=\"colab-df-container\">\n",
              "      <div>\n",
              "<style scoped>\n",
              "    .dataframe tbody tr th:only-of-type {\n",
              "        vertical-align: middle;\n",
              "    }\n",
              "\n",
              "    .dataframe tbody tr th {\n",
              "        vertical-align: top;\n",
              "    }\n",
              "\n",
              "    .dataframe thead th {\n",
              "        text-align: right;\n",
              "    }\n",
              "</style>\n",
              "<table border=\"1\" class=\"dataframe\">\n",
              "  <thead>\n",
              "    <tr style=\"text-align: right;\">\n",
              "      <th></th>\n",
              "      <th>created_at</th>\n",
              "      <th>text</th>\n",
              "      <th>language</th>\n",
              "      <th>scores</th>\n",
              "      <th>sentiment</th>\n",
              "    </tr>\n",
              "  </thead>\n",
              "  <tbody>\n",
              "    <tr>\n",
              "      <th>7</th>\n",
              "      <td>2022-11-02 07:19:51+00:00</td>\n",
              "      <td>did it hurt? when they called your finished de...</td>\n",
              "      <td>((__label__en,), [0.9719023704528809])</td>\n",
              "      <td>{'neg': 0.224, 'neu': 0.592, 'pos': 0.184, 'co...</td>\n",
              "      <td>negative</td>\n",
              "    </tr>\n",
              "    <tr>\n",
              "      <th>12</th>\n",
              "      <td>2022-11-02 07:19:51+00:00</td>\n",
              "      <td>I vote as of the year at the 2022  People’s Ch...</td>\n",
              "      <td>((__label__en,), [0.8037695288658142])</td>\n",
              "      <td>{'neg': 0.0, 'neu': 0.786, 'pos': 0.214, 'comp...</td>\n",
              "      <td>positive</td>\n",
              "    </tr>\n",
              "    <tr>\n",
              "      <th>14</th>\n",
              "      <td>2022-11-02 07:19:51+00:00</td>\n",
              "      <td>if you want to come rub oil on me 🧴</td>\n",
              "      <td>((__label__en,), [0.7123409509658813])</td>\n",
              "      <td>{'neg': 0.0, 'neu': 0.86, 'pos': 0.14, 'compou...</td>\n",
              "      <td>positive</td>\n",
              "    </tr>\n",
              "    <tr>\n",
              "      <th>25</th>\n",
              "      <td>2022-11-02 07:19:51+00:00</td>\n",
              "      <td>I’m not sure how, when, or why, but I have a f...</td>\n",
              "      <td>((__label__en,), [0.8766927123069763])</td>\n",
              "      <td>{'neg': 0.05, 'neu': 0.71, 'pos': 0.24, 'compo...</td>\n",
              "      <td>positive</td>\n",
              "    </tr>\n",
              "    <tr>\n",
              "      <th>28</th>\n",
              "      <td>2022-11-02 07:19:51+00:00</td>\n",
              "      <td>having to complete nilou 's story quest made m...</td>\n",
              "      <td>((__label__en,), [0.8141809701919556])</td>\n",
              "      <td>{'neg': 0.0, 'neu': 0.888, 'pos': 0.112, 'comp...</td>\n",
              "      <td>positive</td>\n",
              "    </tr>\n",
              "    <tr>\n",
              "      <th>...</th>\n",
              "      <td>...</td>\n",
              "      <td>...</td>\n",
              "      <td>...</td>\n",
              "      <td>...</td>\n",
              "      <td>...</td>\n",
              "    </tr>\n",
              "    <tr>\n",
              "      <th>4194716</th>\n",
              "      <td>2022-11-02 07:19:49+00:00</td>\n",
              "      <td>So you might be afraid when we say we want to ...</td>\n",
              "      <td>((__label__en,), [0.9412142038345337])</td>\n",
              "      <td>{'neg': 0.0, 'neu': 0.833, 'pos': 0.167, 'comp...</td>\n",
              "      <td>positive</td>\n",
              "    </tr>\n",
              "    <tr>\n",
              "      <th>4194718</th>\n",
              "      <td>2022-11-02 07:19:49+00:00</td>\n",
              "      <td>This man found a unicorn of a woman who is a b...</td>\n",
              "      <td>((__label__en,), [0.9331048727035522])</td>\n",
              "      <td>{'neg': 0.0, 'neu': 0.833, 'pos': 0.167, 'comp...</td>\n",
              "      <td>positive</td>\n",
              "    </tr>\n",
              "    <tr>\n",
              "      <th>4194719</th>\n",
              "      <td>2022-11-02 07:19:49+00:00</td>\n",
              "      <td>“Sometimes your joy is the source of your smil...</td>\n",
              "      <td>((__label__en,), [0.7717400789260864])</td>\n",
              "      <td>{'neg': 0.0, 'neu': 0.654, 'pos': 0.346, 'comp...</td>\n",
              "      <td>positive</td>\n",
              "    </tr>\n",
              "    <tr>\n",
              "      <th>4194733</th>\n",
              "      <td>2022-11-02 07:19:50+00:00</td>\n",
              "      <td>when I put “???” In a conversation, this is ex...</td>\n",
              "      <td>((__label__en,), [0.8959476947784424])</td>\n",
              "      <td>{'neg': 0.0, 'neu': 0.796, 'pos': 0.204, 'comp...</td>\n",
              "      <td>positive</td>\n",
              "    </tr>\n",
              "    <tr>\n",
              "      <th>4194739</th>\n",
              "      <td>2022-11-02 07:19:50+00:00</td>\n",
              "      <td>$8 dollars a month for a blue checkmark is bul...</td>\n",
              "      <td>((__label__en,), [0.6876944303512573])</td>\n",
              "      <td>{'neg': 0.159, 'neu': 0.753, 'pos': 0.088, 'co...</td>\n",
              "      <td>negative</td>\n",
              "    </tr>\n",
              "  </tbody>\n",
              "</table>\n",
              "<p>765762 rows × 5 columns</p>\n",
              "</div>\n",
              "      <button class=\"colab-df-convert\" onclick=\"convertToInteractive('df-a190cd12-2796-4fa4-b9e3-74dbc05ade72')\"\n",
              "              title=\"Convert this dataframe to an interactive table.\"\n",
              "              style=\"display:none;\">\n",
              "        \n",
              "  <svg xmlns=\"http://www.w3.org/2000/svg\" height=\"24px\"viewBox=\"0 0 24 24\"\n",
              "       width=\"24px\">\n",
              "    <path d=\"M0 0h24v24H0V0z\" fill=\"none\"/>\n",
              "    <path d=\"M18.56 5.44l.94 2.06.94-2.06 2.06-.94-2.06-.94-.94-2.06-.94 2.06-2.06.94zm-11 1L8.5 8.5l.94-2.06 2.06-.94-2.06-.94L8.5 2.5l-.94 2.06-2.06.94zm10 10l.94 2.06.94-2.06 2.06-.94-2.06-.94-.94-2.06-.94 2.06-2.06.94z\"/><path d=\"M17.41 7.96l-1.37-1.37c-.4-.4-.92-.59-1.43-.59-.52 0-1.04.2-1.43.59L10.3 9.45l-7.72 7.72c-.78.78-.78 2.05 0 2.83L4 21.41c.39.39.9.59 1.41.59.51 0 1.02-.2 1.41-.59l7.78-7.78 2.81-2.81c.8-.78.8-2.07 0-2.86zM5.41 20L4 18.59l7.72-7.72 1.47 1.35L5.41 20z\"/>\n",
              "  </svg>\n",
              "      </button>\n",
              "      \n",
              "  <style>\n",
              "    .colab-df-container {\n",
              "      display:flex;\n",
              "      flex-wrap:wrap;\n",
              "      gap: 12px;\n",
              "    }\n",
              "\n",
              "    .colab-df-convert {\n",
              "      background-color: #E8F0FE;\n",
              "      border: none;\n",
              "      border-radius: 50%;\n",
              "      cursor: pointer;\n",
              "      display: none;\n",
              "      fill: #1967D2;\n",
              "      height: 32px;\n",
              "      padding: 0 0 0 0;\n",
              "      width: 32px;\n",
              "    }\n",
              "\n",
              "    .colab-df-convert:hover {\n",
              "      background-color: #E2EBFA;\n",
              "      box-shadow: 0px 1px 2px rgba(60, 64, 67, 0.3), 0px 1px 3px 1px rgba(60, 64, 67, 0.15);\n",
              "      fill: #174EA6;\n",
              "    }\n",
              "\n",
              "    [theme=dark] .colab-df-convert {\n",
              "      background-color: #3B4455;\n",
              "      fill: #D2E3FC;\n",
              "    }\n",
              "\n",
              "    [theme=dark] .colab-df-convert:hover {\n",
              "      background-color: #434B5C;\n",
              "      box-shadow: 0px 1px 3px 1px rgba(0, 0, 0, 0.15);\n",
              "      filter: drop-shadow(0px 1px 2px rgba(0, 0, 0, 0.3));\n",
              "      fill: #FFFFFF;\n",
              "    }\n",
              "  </style>\n",
              "\n",
              "      <script>\n",
              "        const buttonEl =\n",
              "          document.querySelector('#df-a190cd12-2796-4fa4-b9e3-74dbc05ade72 button.colab-df-convert');\n",
              "        buttonEl.style.display =\n",
              "          google.colab.kernel.accessAllowed ? 'block' : 'none';\n",
              "\n",
              "        async function convertToInteractive(key) {\n",
              "          const element = document.querySelector('#df-a190cd12-2796-4fa4-b9e3-74dbc05ade72');\n",
              "          const dataTable =\n",
              "            await google.colab.kernel.invokeFunction('convertToInteractive',\n",
              "                                                     [key], {});\n",
              "          if (!dataTable) return;\n",
              "\n",
              "          const docLinkHtml = 'Like what you see? Visit the ' +\n",
              "            '<a target=\"_blank\" href=https://colab.research.google.com/notebooks/data_table.ipynb>data table notebook</a>'\n",
              "            + ' to learn more about interactive tables.';\n",
              "          element.innerHTML = '';\n",
              "          dataTable['output_type'] = 'display_data';\n",
              "          await google.colab.output.renderOutput(dataTable, element);\n",
              "          const docLink = document.createElement('div');\n",
              "          docLink.innerHTML = docLinkHtml;\n",
              "          element.appendChild(docLink);\n",
              "        }\n",
              "      </script>\n",
              "    </div>\n",
              "  </div>\n",
              "  "
            ]
          },
          "metadata": {},
          "execution_count": 128
        }
      ]
    },
    {
      "cell_type": "code",
      "source": [
        "cleaned_dataset_eng_sentiment = cleaned_dataset_eng[['text', 'sentiment']]"
      ],
      "metadata": {
        "id": "z0huPN74ZrFQ"
      },
      "execution_count": null,
      "outputs": []
    },
    {
      "cell_type": "code",
      "source": [
        "cleaned_dataset_eng_sentiment.head()"
      ],
      "metadata": {
        "colab": {
          "base_uri": "https://localhost:8080/",
          "height": 206
        },
        "id": "kYFw-_hUateg",
        "outputId": "b84dc728-b534-4715-83f3-9eefbd012d5f"
      },
      "execution_count": null,
      "outputs": [
        {
          "output_type": "execute_result",
          "data": {
            "text/plain": [
              "                                                 text sentiment\n",
              "7   did it hurt? when they called your finished de...  negative\n",
              "12  I vote as of the year at the 2022  People’s Ch...  positive\n",
              "14               if you want to come rub oil on me 🧴   positive\n",
              "25  I’m not sure how, when, or why, but I have a f...  positive\n",
              "28  having to complete nilou 's story quest made m...  positive"
            ],
            "text/html": [
              "\n",
              "  <div id=\"df-29761904-5973-4cc5-a4cc-71c524a8b4f4\">\n",
              "    <div class=\"colab-df-container\">\n",
              "      <div>\n",
              "<style scoped>\n",
              "    .dataframe tbody tr th:only-of-type {\n",
              "        vertical-align: middle;\n",
              "    }\n",
              "\n",
              "    .dataframe tbody tr th {\n",
              "        vertical-align: top;\n",
              "    }\n",
              "\n",
              "    .dataframe thead th {\n",
              "        text-align: right;\n",
              "    }\n",
              "</style>\n",
              "<table border=\"1\" class=\"dataframe\">\n",
              "  <thead>\n",
              "    <tr style=\"text-align: right;\">\n",
              "      <th></th>\n",
              "      <th>text</th>\n",
              "      <th>sentiment</th>\n",
              "    </tr>\n",
              "  </thead>\n",
              "  <tbody>\n",
              "    <tr>\n",
              "      <th>7</th>\n",
              "      <td>did it hurt? when they called your finished de...</td>\n",
              "      <td>negative</td>\n",
              "    </tr>\n",
              "    <tr>\n",
              "      <th>12</th>\n",
              "      <td>I vote as of the year at the 2022  People’s Ch...</td>\n",
              "      <td>positive</td>\n",
              "    </tr>\n",
              "    <tr>\n",
              "      <th>14</th>\n",
              "      <td>if you want to come rub oil on me 🧴</td>\n",
              "      <td>positive</td>\n",
              "    </tr>\n",
              "    <tr>\n",
              "      <th>25</th>\n",
              "      <td>I’m not sure how, when, or why, but I have a f...</td>\n",
              "      <td>positive</td>\n",
              "    </tr>\n",
              "    <tr>\n",
              "      <th>28</th>\n",
              "      <td>having to complete nilou 's story quest made m...</td>\n",
              "      <td>positive</td>\n",
              "    </tr>\n",
              "  </tbody>\n",
              "</table>\n",
              "</div>\n",
              "      <button class=\"colab-df-convert\" onclick=\"convertToInteractive('df-29761904-5973-4cc5-a4cc-71c524a8b4f4')\"\n",
              "              title=\"Convert this dataframe to an interactive table.\"\n",
              "              style=\"display:none;\">\n",
              "        \n",
              "  <svg xmlns=\"http://www.w3.org/2000/svg\" height=\"24px\"viewBox=\"0 0 24 24\"\n",
              "       width=\"24px\">\n",
              "    <path d=\"M0 0h24v24H0V0z\" fill=\"none\"/>\n",
              "    <path d=\"M18.56 5.44l.94 2.06.94-2.06 2.06-.94-2.06-.94-.94-2.06-.94 2.06-2.06.94zm-11 1L8.5 8.5l.94-2.06 2.06-.94-2.06-.94L8.5 2.5l-.94 2.06-2.06.94zm10 10l.94 2.06.94-2.06 2.06-.94-2.06-.94-.94-2.06-.94 2.06-2.06.94z\"/><path d=\"M17.41 7.96l-1.37-1.37c-.4-.4-.92-.59-1.43-.59-.52 0-1.04.2-1.43.59L10.3 9.45l-7.72 7.72c-.78.78-.78 2.05 0 2.83L4 21.41c.39.39.9.59 1.41.59.51 0 1.02-.2 1.41-.59l7.78-7.78 2.81-2.81c.8-.78.8-2.07 0-2.86zM5.41 20L4 18.59l7.72-7.72 1.47 1.35L5.41 20z\"/>\n",
              "  </svg>\n",
              "      </button>\n",
              "      \n",
              "  <style>\n",
              "    .colab-df-container {\n",
              "      display:flex;\n",
              "      flex-wrap:wrap;\n",
              "      gap: 12px;\n",
              "    }\n",
              "\n",
              "    .colab-df-convert {\n",
              "      background-color: #E8F0FE;\n",
              "      border: none;\n",
              "      border-radius: 50%;\n",
              "      cursor: pointer;\n",
              "      display: none;\n",
              "      fill: #1967D2;\n",
              "      height: 32px;\n",
              "      padding: 0 0 0 0;\n",
              "      width: 32px;\n",
              "    }\n",
              "\n",
              "    .colab-df-convert:hover {\n",
              "      background-color: #E2EBFA;\n",
              "      box-shadow: 0px 1px 2px rgba(60, 64, 67, 0.3), 0px 1px 3px 1px rgba(60, 64, 67, 0.15);\n",
              "      fill: #174EA6;\n",
              "    }\n",
              "\n",
              "    [theme=dark] .colab-df-convert {\n",
              "      background-color: #3B4455;\n",
              "      fill: #D2E3FC;\n",
              "    }\n",
              "\n",
              "    [theme=dark] .colab-df-convert:hover {\n",
              "      background-color: #434B5C;\n",
              "      box-shadow: 0px 1px 3px 1px rgba(0, 0, 0, 0.15);\n",
              "      filter: drop-shadow(0px 1px 2px rgba(0, 0, 0, 0.3));\n",
              "      fill: #FFFFFF;\n",
              "    }\n",
              "  </style>\n",
              "\n",
              "      <script>\n",
              "        const buttonEl =\n",
              "          document.querySelector('#df-29761904-5973-4cc5-a4cc-71c524a8b4f4 button.colab-df-convert');\n",
              "        buttonEl.style.display =\n",
              "          google.colab.kernel.accessAllowed ? 'block' : 'none';\n",
              "\n",
              "        async function convertToInteractive(key) {\n",
              "          const element = document.querySelector('#df-29761904-5973-4cc5-a4cc-71c524a8b4f4');\n",
              "          const dataTable =\n",
              "            await google.colab.kernel.invokeFunction('convertToInteractive',\n",
              "                                                     [key], {});\n",
              "          if (!dataTable) return;\n",
              "\n",
              "          const docLinkHtml = 'Like what you see? Visit the ' +\n",
              "            '<a target=\"_blank\" href=https://colab.research.google.com/notebooks/data_table.ipynb>data table notebook</a>'\n",
              "            + ' to learn more about interactive tables.';\n",
              "          element.innerHTML = '';\n",
              "          dataTable['output_type'] = 'display_data';\n",
              "          await google.colab.output.renderOutput(dataTable, element);\n",
              "          const docLink = document.createElement('div');\n",
              "          docLink.innerHTML = docLinkHtml;\n",
              "          element.appendChild(docLink);\n",
              "        }\n",
              "      </script>\n",
              "    </div>\n",
              "  </div>\n",
              "  "
            ]
          },
          "metadata": {},
          "execution_count": 130
        }
      ]
    },
    {
      "cell_type": "code",
      "source": [
        "cleaned_dataset_eng_sentiment.shape"
      ],
      "metadata": {
        "colab": {
          "base_uri": "https://localhost:8080/"
        },
        "id": "nzXA4RePgjGB",
        "outputId": "19ffe5a2-990e-48e4-de5e-c50f19a42a5e"
      },
      "execution_count": null,
      "outputs": [
        {
          "output_type": "execute_result",
          "data": {
            "text/plain": [
              "(765762, 2)"
            ]
          },
          "metadata": {},
          "execution_count": 132
        }
      ]
    },
    {
      "cell_type": "code",
      "source": [
        "cleaned_dataset_eng_sentiment.to_csv(\"./drive/MyDrive/Comp 642 data/cleaned_dataset_eng_sentiment.csv\", mode='w', index=False)"
      ],
      "metadata": {
        "id": "z_PR0fV4ai_T"
      },
      "execution_count": null,
      "outputs": []
    },
    {
      "cell_type": "markdown",
      "source": [
        "# dataset without emojis"
      ],
      "metadata": {
        "id": "XEvPNfCGg8AR"
      }
    },
    {
      "cell_type": "code",
      "source": [
        "cleaned_dataset_eng_sentiment_no = cleaned_dataset_eng_sentiment.copy()"
      ],
      "metadata": {
        "id": "edMGb7-jg45I"
      },
      "execution_count": null,
      "outputs": []
    },
    {
      "cell_type": "code",
      "source": [
        "cleaned_dataset_eng_sentiment_no['text'] = cleaned_dataset_eng_sentiment_no['text'].str.replace(emoji_regex, \" \")\n",
        "cleaned_dataset_eng_sentiment_no['text'] = cleaned_dataset_eng_sentiment_no['text'].str.replace(emoticon_regex, \" \")\n",
        "cleaned_dataset_eng_sentiment_no['text'] = cleaned_dataset_eng_sentiment_no['text'].str.replace('^[\\s]+|[\\s]+$', \"\") # remove starting and trailing space\n",
        "cleaned_dataset_eng_sentiment_no['text'] = cleaned_dataset_eng_sentiment_no['text'].str.replace(r\"\\s+\", \" \")"
      ],
      "metadata": {
        "colab": {
          "base_uri": "https://localhost:8080/"
        },
        "id": "qZC9eOFYxtHN",
        "outputId": "e915ddf7-4a2e-4921-ad17-c46ecaa1fb4a"
      },
      "execution_count": null,
      "outputs": [
        {
          "output_type": "stream",
          "name": "stderr",
          "text": [
            "<ipython-input-172-70b73f9f23d2>:3: FutureWarning: The default value of regex will change from True to False in a future version.\n",
            "  cleaned_dataset_eng_sentiment_no['text'] = cleaned_dataset_eng_sentiment_no['text'].str.replace('^[\\s]+|[\\s]+$', \"\") # remove starting and trailing space\n",
            "<ipython-input-172-70b73f9f23d2>:4: FutureWarning: The default value of regex will change from True to False in a future version.\n",
            "  cleaned_dataset_eng_sentiment_no['text'] = cleaned_dataset_eng_sentiment_no['text'].str.replace(r\"\\s+\", \" \")\n"
          ]
        }
      ]
    },
    {
      "cell_type": "code",
      "source": [
        "cleaned_dataset_eng_sentiment_no.head(10)"
      ],
      "metadata": {
        "colab": {
          "base_uri": "https://localhost:8080/",
          "height": 363
        },
        "id": "kZAXjZGwyMle",
        "outputId": "545e835a-f711-4939-a51b-6ca38c1729dd"
      },
      "execution_count": null,
      "outputs": [
        {
          "output_type": "execute_result",
          "data": {
            "text/plain": [
              "                                                 text sentiment\n",
              "7   did it hurt? when they called your finished de...  negative\n",
              "12  I vote as of the year at the 2022 People’s Cho...  positive\n",
              "14                  if you want to come rub oil on me  positive\n",
              "25  I’m not sure how, when, or why, but I have a f...  positive\n",
              "28  having to complete nilou 's story quest made m...  positive\n",
              "34  It took almost 10 years but BTS finally have s...   neutral\n",
              "38  cuz i don 't get the whole meeting lol maybe o...  positive\n",
              "42               Remember to wear that smile everyday  positive\n",
              "43  When you’ve been warmongering as long as Putin...  negative\n",
              "67  SHAME ON KEYSTONE BANK and it’s Ceo, OLANIRAN ...  negative"
            ],
            "text/html": [
              "\n",
              "  <div id=\"df-af14226d-f5ec-48e2-92e6-b3888ec25f0d\">\n",
              "    <div class=\"colab-df-container\">\n",
              "      <div>\n",
              "<style scoped>\n",
              "    .dataframe tbody tr th:only-of-type {\n",
              "        vertical-align: middle;\n",
              "    }\n",
              "\n",
              "    .dataframe tbody tr th {\n",
              "        vertical-align: top;\n",
              "    }\n",
              "\n",
              "    .dataframe thead th {\n",
              "        text-align: right;\n",
              "    }\n",
              "</style>\n",
              "<table border=\"1\" class=\"dataframe\">\n",
              "  <thead>\n",
              "    <tr style=\"text-align: right;\">\n",
              "      <th></th>\n",
              "      <th>text</th>\n",
              "      <th>sentiment</th>\n",
              "    </tr>\n",
              "  </thead>\n",
              "  <tbody>\n",
              "    <tr>\n",
              "      <th>7</th>\n",
              "      <td>did it hurt? when they called your finished de...</td>\n",
              "      <td>negative</td>\n",
              "    </tr>\n",
              "    <tr>\n",
              "      <th>12</th>\n",
              "      <td>I vote as of the year at the 2022 People’s Cho...</td>\n",
              "      <td>positive</td>\n",
              "    </tr>\n",
              "    <tr>\n",
              "      <th>14</th>\n",
              "      <td>if you want to come rub oil on me</td>\n",
              "      <td>positive</td>\n",
              "    </tr>\n",
              "    <tr>\n",
              "      <th>25</th>\n",
              "      <td>I’m not sure how, when, or why, but I have a f...</td>\n",
              "      <td>positive</td>\n",
              "    </tr>\n",
              "    <tr>\n",
              "      <th>28</th>\n",
              "      <td>having to complete nilou 's story quest made m...</td>\n",
              "      <td>positive</td>\n",
              "    </tr>\n",
              "    <tr>\n",
              "      <th>34</th>\n",
              "      <td>It took almost 10 years but BTS finally have s...</td>\n",
              "      <td>neutral</td>\n",
              "    </tr>\n",
              "    <tr>\n",
              "      <th>38</th>\n",
              "      <td>cuz i don 't get the whole meeting lol maybe o...</td>\n",
              "      <td>positive</td>\n",
              "    </tr>\n",
              "    <tr>\n",
              "      <th>42</th>\n",
              "      <td>Remember to wear that smile everyday</td>\n",
              "      <td>positive</td>\n",
              "    </tr>\n",
              "    <tr>\n",
              "      <th>43</th>\n",
              "      <td>When you’ve been warmongering as long as Putin...</td>\n",
              "      <td>negative</td>\n",
              "    </tr>\n",
              "    <tr>\n",
              "      <th>67</th>\n",
              "      <td>SHAME ON KEYSTONE BANK and it’s Ceo, OLANIRAN ...</td>\n",
              "      <td>negative</td>\n",
              "    </tr>\n",
              "  </tbody>\n",
              "</table>\n",
              "</div>\n",
              "      <button class=\"colab-df-convert\" onclick=\"convertToInteractive('df-af14226d-f5ec-48e2-92e6-b3888ec25f0d')\"\n",
              "              title=\"Convert this dataframe to an interactive table.\"\n",
              "              style=\"display:none;\">\n",
              "        \n",
              "  <svg xmlns=\"http://www.w3.org/2000/svg\" height=\"24px\"viewBox=\"0 0 24 24\"\n",
              "       width=\"24px\">\n",
              "    <path d=\"M0 0h24v24H0V0z\" fill=\"none\"/>\n",
              "    <path d=\"M18.56 5.44l.94 2.06.94-2.06 2.06-.94-2.06-.94-.94-2.06-.94 2.06-2.06.94zm-11 1L8.5 8.5l.94-2.06 2.06-.94-2.06-.94L8.5 2.5l-.94 2.06-2.06.94zm10 10l.94 2.06.94-2.06 2.06-.94-2.06-.94-.94-2.06-.94 2.06-2.06.94z\"/><path d=\"M17.41 7.96l-1.37-1.37c-.4-.4-.92-.59-1.43-.59-.52 0-1.04.2-1.43.59L10.3 9.45l-7.72 7.72c-.78.78-.78 2.05 0 2.83L4 21.41c.39.39.9.59 1.41.59.51 0 1.02-.2 1.41-.59l7.78-7.78 2.81-2.81c.8-.78.8-2.07 0-2.86zM5.41 20L4 18.59l7.72-7.72 1.47 1.35L5.41 20z\"/>\n",
              "  </svg>\n",
              "      </button>\n",
              "      \n",
              "  <style>\n",
              "    .colab-df-container {\n",
              "      display:flex;\n",
              "      flex-wrap:wrap;\n",
              "      gap: 12px;\n",
              "    }\n",
              "\n",
              "    .colab-df-convert {\n",
              "      background-color: #E8F0FE;\n",
              "      border: none;\n",
              "      border-radius: 50%;\n",
              "      cursor: pointer;\n",
              "      display: none;\n",
              "      fill: #1967D2;\n",
              "      height: 32px;\n",
              "      padding: 0 0 0 0;\n",
              "      width: 32px;\n",
              "    }\n",
              "\n",
              "    .colab-df-convert:hover {\n",
              "      background-color: #E2EBFA;\n",
              "      box-shadow: 0px 1px 2px rgba(60, 64, 67, 0.3), 0px 1px 3px 1px rgba(60, 64, 67, 0.15);\n",
              "      fill: #174EA6;\n",
              "    }\n",
              "\n",
              "    [theme=dark] .colab-df-convert {\n",
              "      background-color: #3B4455;\n",
              "      fill: #D2E3FC;\n",
              "    }\n",
              "\n",
              "    [theme=dark] .colab-df-convert:hover {\n",
              "      background-color: #434B5C;\n",
              "      box-shadow: 0px 1px 3px 1px rgba(0, 0, 0, 0.15);\n",
              "      filter: drop-shadow(0px 1px 2px rgba(0, 0, 0, 0.3));\n",
              "      fill: #FFFFFF;\n",
              "    }\n",
              "  </style>\n",
              "\n",
              "      <script>\n",
              "        const buttonEl =\n",
              "          document.querySelector('#df-af14226d-f5ec-48e2-92e6-b3888ec25f0d button.colab-df-convert');\n",
              "        buttonEl.style.display =\n",
              "          google.colab.kernel.accessAllowed ? 'block' : 'none';\n",
              "\n",
              "        async function convertToInteractive(key) {\n",
              "          const element = document.querySelector('#df-af14226d-f5ec-48e2-92e6-b3888ec25f0d');\n",
              "          const dataTable =\n",
              "            await google.colab.kernel.invokeFunction('convertToInteractive',\n",
              "                                                     [key], {});\n",
              "          if (!dataTable) return;\n",
              "\n",
              "          const docLinkHtml = 'Like what you see? Visit the ' +\n",
              "            '<a target=\"_blank\" href=https://colab.research.google.com/notebooks/data_table.ipynb>data table notebook</a>'\n",
              "            + ' to learn more about interactive tables.';\n",
              "          element.innerHTML = '';\n",
              "          dataTable['output_type'] = 'display_data';\n",
              "          await google.colab.output.renderOutput(dataTable, element);\n",
              "          const docLink = document.createElement('div');\n",
              "          docLink.innerHTML = docLinkHtml;\n",
              "          element.appendChild(docLink);\n",
              "        }\n",
              "      </script>\n",
              "    </div>\n",
              "  </div>\n",
              "  "
            ]
          },
          "metadata": {},
          "execution_count": 173
        }
      ]
    },
    {
      "cell_type": "code",
      "source": [
        "cleaned_dataset_eng_sentiment_no.shape"
      ],
      "metadata": {
        "colab": {
          "base_uri": "https://localhost:8080/"
        },
        "id": "SvEjy2QCzxHx",
        "outputId": "f644bf37-9d2a-4272-cee4-20d78c3de2bd"
      },
      "execution_count": null,
      "outputs": [
        {
          "output_type": "execute_result",
          "data": {
            "text/plain": [
              "(765762, 2)"
            ]
          },
          "metadata": {},
          "execution_count": 174
        }
      ]
    },
    {
      "cell_type": "code",
      "source": [
        "cleaned_dataset_eng_sentiment_no.to_csv(\"./drive/MyDrive/Comp 642 data/cleaned_dataset_eng_sentiment_no_emoji_emoticon.csv\", mode='w', index=False)"
      ],
      "metadata": {
        "id": "j0m67tKHz6kn"
      },
      "execution_count": null,
      "outputs": []
    }
  ]
}