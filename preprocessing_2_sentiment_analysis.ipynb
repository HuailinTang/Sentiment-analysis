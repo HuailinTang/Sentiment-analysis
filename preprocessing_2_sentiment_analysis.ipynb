{
  "nbformat": 4,
  "nbformat_minor": 0,
  "metadata": {
    "colab": {
      "provenance": [],
      "machine_shape": "hm"
    },
    "kernelspec": {
      "name": "python3",
      "display_name": "Python 3"
    },
    "language_info": {
      "name": "python"
    },
    "gpuClass": "premium",
    "accelerator": "GPU"
  },
  "cells": [
    {
      "cell_type": "code",
      "source": [
        "import pandas as pd\n",
        "import numpy as np\n",
        "import re\n",
        "from google.colab import drive\n",
        "import nltk\n",
        "from nltk.tokenize import TweetTokenizer\n",
        "from nltk.corpus import stopwords\n",
        "import string\n",
        "from nltk.stem import WordNetLemmatizer\n",
        "from wordcloud import WordCloud\n",
        "import matplotlib.pyplot as plt\n",
        "from sklearn.feature_extraction.text import CountVectorizer\n",
        "from scipy.sparse import csr_matrix\n",
        "from sklearn.linear_model import LogisticRegression\n",
        "from sklearn.pipeline import Pipeline\n",
        "from sklearn.naive_bayes import MultinomialNB\n",
        "from sklearn.model_selection import train_test_split \n",
        "from sklearn.metrics import f1_score, accuracy_score, confusion_matrix, classification_report\n",
        "from sklearn.svm import LinearSVC\n",
        "from sklearn.ensemble import RandomForestClassifier\n",
        "import xgboost as xgb\n",
        "from sklearn.preprocessing import LabelEncoder\n",
        "import tensorflow as tf\n",
        "from tensorflow.keras.preprocessing.text import Tokenizer\n",
        "from tensorflow.keras.preprocessing.sequence import pad_sequences\n",
        "from sklearn.base import BaseEstimator, TransformerMixin\n",
        "from sklearn.preprocessing import Normalizer\n",
        "import scipy\n",
        "import re\n",
        "import pickle\n",
        "import emoji\n",
        "from multiprocessing import Pool\n",
        "from keras.models import Sequential\n",
        "from keras.layers import Dense, LSTM, Embedding, SpatialDropout1D"
      ],
      "metadata": {
        "id": "Ad4kgIQZeqIi"
      },
      "execution_count": 15,
      "outputs": []
    },
    {
      "cell_type": "code",
      "source": [
        "nltk.download('stopwords')"
      ],
      "metadata": {
        "colab": {
          "base_uri": "https://localhost:8080/"
        },
        "id": "7A0JLzwhqb3n",
        "outputId": "a1045fd9-fb0c-47e1-b642-db3966b6400b"
      },
      "execution_count": 23,
      "outputs": [
        {
          "output_type": "stream",
          "name": "stderr",
          "text": [
            "[nltk_data] Downloading package stopwords to /root/nltk_data...\n",
            "[nltk_data]   Unzipping corpora/stopwords.zip.\n"
          ]
        },
        {
          "output_type": "execute_result",
          "data": {
            "text/plain": [
              "True"
            ]
          },
          "metadata": {},
          "execution_count": 23
        }
      ]
    },
    {
      "cell_type": "code",
      "source": [
        "nltk.download('wordnet')"
      ],
      "metadata": {
        "colab": {
          "base_uri": "https://localhost:8080/"
        },
        "id": "RDKiY2zvq4o6",
        "outputId": "08711494-6309-4a80-cee6-d522407db33a"
      },
      "execution_count": 28,
      "outputs": [
        {
          "output_type": "stream",
          "name": "stderr",
          "text": [
            "[nltk_data] Downloading package wordnet to /root/nltk_data...\n"
          ]
        },
        {
          "output_type": "execute_result",
          "data": {
            "text/plain": [
              "True"
            ]
          },
          "metadata": {},
          "execution_count": 28
        }
      ]
    },
    {
      "cell_type": "code",
      "source": [
        "drive.mount('/content/drive', force_remount=True)"
      ],
      "metadata": {
        "colab": {
          "base_uri": "https://localhost:8080/"
        },
        "id": "0RmzV5S7e1VL",
        "outputId": "575b95d4-1b0b-43a4-ffed-60c224b8ab79"
      },
      "execution_count": 16,
      "outputs": [
        {
          "output_type": "stream",
          "name": "stdout",
          "text": [
            "Mounted at /content/drive\n"
          ]
        }
      ]
    },
    {
      "cell_type": "code",
      "execution_count": 17,
      "metadata": {
        "id": "k57vnbPFcknR"
      },
      "outputs": [],
      "source": [
        "df_emoji = pd.read_csv(\"./drive/MyDrive/Comp 642 data/cleaned_dataset_eng_sentiment.csv\")\n",
        "df_no_emoji = pd.read_csv(\"./drive/MyDrive/Comp 642 data/cleaned_dataset_eng_sentiment_no_emoji_emoticon.csv\")"
      ]
    },
    {
      "cell_type": "markdown",
      "source": [
        "# Preprocessing"
      ],
      "metadata": {
        "id": "VzxTcytHfM_U"
      }
    },
    {
      "cell_type": "code",
      "source": [
        "# convert to lower case\n",
        "df_emoji['processed_text'] = df_emoji['text'].str.lower()\n",
        "df_no_emoji['processed_text'] = df_no_emoji['text'].str.lower()"
      ],
      "metadata": {
        "id": "buWgESIdfLZ_"
      },
      "execution_count": 18,
      "outputs": []
    },
    {
      "cell_type": "code",
      "source": [
        "# remove numbers\n",
        "df_emoji['processed_text'] = df_emoji['processed_text'].str.replace('\\d+', '')\n",
        "df_no_emoji['processed_text'] = df_no_emoji['processed_text'].str.replace('\\d+', '')"
      ],
      "metadata": {
        "colab": {
          "base_uri": "https://localhost:8080/"
        },
        "id": "14yRnJ8sgZog",
        "outputId": "84857188-8c8e-4193-c3a3-ca133036b390"
      },
      "execution_count": 19,
      "outputs": [
        {
          "output_type": "stream",
          "name": "stderr",
          "text": [
            "<ipython-input-19-dcf82b47b2b9>:2: FutureWarning: The default value of regex will change from True to False in a future version.\n",
            "  df_emoji['processed_text'] = df_emoji['processed_text'].str.replace('\\d+', '')\n",
            "<ipython-input-19-dcf82b47b2b9>:3: FutureWarning: The default value of regex will change from True to False in a future version.\n",
            "  df_no_emoji['processed_text'] = df_no_emoji['processed_text'].str.replace('\\d+', '')\n"
          ]
        }
      ]
    },
    {
      "cell_type": "code",
      "source": [
        "# remove punctuation\n",
        "df_emoji['processed_text'] = df_emoji['processed_text'].str.translate(str.maketrans(\"\", \"\", string.punctuation))\n",
        "df_no_emoji['processed_text'] = df_no_emoji['processed_text'].str.translate(str.maketrans(\"\", \"\", string.punctuation))"
      ],
      "metadata": {
        "id": "QXr11KC0lDkT"
      },
      "execution_count": 20,
      "outputs": []
    },
    {
      "cell_type": "code",
      "source": [
        "# remove empty string or NA\n",
        "df_emoji = df_emoji[df_emoji['processed_text'] != '']\n",
        "df_no_emoji = df_no_emoji[df_no_emoji['processed_text'] != '']\n",
        "df_emoji = df_emoji.dropna()\n",
        "df_no_emoji = df_no_emoji.dropna()"
      ],
      "metadata": {
        "id": "lKtWqtAsoBQV"
      },
      "execution_count": 21,
      "outputs": []
    },
    {
      "cell_type": "code",
      "source": [
        "stop_words = set(stopwords.words('english'))\n",
        "def remove_stopwords(sentence):\n",
        "    words = sentence.split()\n",
        "    filtered_words = [word for word in words if word.lower() not in stop_words]\n",
        "    return ' '.join(filtered_words)"
      ],
      "metadata": {
        "id": "u8pKJMs7mEB3"
      },
      "execution_count": 24,
      "outputs": []
    },
    {
      "cell_type": "code",
      "source": [
        "df_emoji['processed_text'] = df_emoji['processed_text'].apply(remove_stopwords)\n",
        "df_no_emoji['processed_text'] = df_no_emoji['processed_text'].apply(remove_stopwords)"
      ],
      "metadata": {
        "id": "TcfcDOXFqUHb"
      },
      "execution_count": 25,
      "outputs": []
    },
    {
      "cell_type": "code",
      "source": [
        "lemmatizer = WordNetLemmatizer()\n",
        "def lemmatize_sentence(sentence):\n",
        "    words = sentence.split()\n",
        "    lemmatized_words = [lemmatizer.lemmatize(word, pos='v') for word in words]  # pos='v' for verbs\n",
        "    return ' '.join(lemmatized_words)"
      ],
      "metadata": {
        "id": "naqqotTVql2h"
      },
      "execution_count": 26,
      "outputs": []
    },
    {
      "cell_type": "code",
      "source": [
        "df_emoji['processed_text'] =  df_emoji['processed_text'].apply(lemmatize_sentence)\n",
        "df_no_emoji['processed_text'] =  df_no_emoji['processed_text'].apply(lemmatize_sentence)"
      ],
      "metadata": {
        "id": "zdbtcnz4rAIF"
      },
      "execution_count": 29,
      "outputs": []
    },
    {
      "cell_type": "code",
      "source": [
        "df_emoji.to_csv(\"./drive/MyDrive/Comp 642 data/tweets_emoji.csv\",  mode='w', index=False)"
      ],
      "metadata": {
        "id": "zGTEOxev0tAo"
      },
      "execution_count": 30,
      "outputs": []
    },
    {
      "cell_type": "code",
      "source": [
        "with open('./drive/MyDrive/Comp 642 data/Emoji_Dict.p', 'rb') as fp:\n",
        "    Emoji_Dict = pickle.load(fp)\n",
        "Emoji_Dict = {v: k for k, v in Emoji_Dict.items()}\n",
        "\n",
        "def convert_emojis_to_word(text):\n",
        "    for emot in Emoji_Dict:\n",
        "        word = Emoji_Dict[emot].replace(\",\", \"\").replace(\":\", \"\")\n",
        "        text = re.sub(r'('+emot+')', word, text)\n",
        "    return text.replace('_', ' ')"
      ],
      "metadata": {
        "id": "OUFfBD4oZ5Cv"
      },
      "execution_count": null,
      "outputs": []
    },
    {
      "cell_type": "code",
      "source": [
        "df_emoji_text = df_emoji.copy()"
      ],
      "metadata": {
        "id": "tQjTjT2cZ24O"
      },
      "execution_count": null,
      "outputs": []
    },
    {
      "cell_type": "code",
      "source": [
        "df_emoji_text['processed_text'] = df_emoji_text['text'].str.replace('|'.join(re.escape(key) for key in Emoji_Dict.keys()), lambda match: convert_emojis_to_word(match.group()))"
      ],
      "metadata": {
        "colab": {
          "base_uri": "https://localhost:8080/"
        },
        "id": "svkkWnoMaArQ",
        "outputId": "d9a88a0c-af05-4ac9-c136-c00fb4610f4b"
      },
      "execution_count": null,
      "outputs": [
        {
          "output_type": "stream",
          "name": "stderr",
          "text": [
            "<ipython-input-26-a9cc1912f192>:1: FutureWarning: The default value of regex will change from True to False in a future version.\n",
            "  df_emoji_text['processed_text'] = df_emoji_text['text'].str.replace('|'.join(re.escape(key) for key in Emoji_Dict.keys()), lambda match: convert_emojis_to_word(match.group()))\n"
          ]
        }
      ]
    },
    {
      "cell_type": "code",
      "source": [
        "def convert_emojis_to_text(text):\n",
        "    return emoji.demojize(text, delimiters=(' ', ' '))"
      ],
      "metadata": {
        "id": "W1ttrW8hOaZ7"
      },
      "execution_count": null,
      "outputs": []
    },
    {
      "cell_type": "code",
      "source": [
        "df_emoji_text['processed_text'] = df_emoji_text['processed_text'].apply(convert_emojis_to_text)\n",
        "df_emoji_text['processed_text'] = df_emoji_text['processed_text'].str.replace('_', ' ')"
      ],
      "metadata": {
        "id": "1CLyOxy2OdEu"
      },
      "execution_count": null,
      "outputs": []
    },
    {
      "cell_type": "code",
      "source": [
        "df_emoji_text.head(5)"
      ],
      "metadata": {
        "id": "YVbgMgV1eF6o"
      },
      "execution_count": null,
      "outputs": []
    },
    {
      "cell_type": "code",
      "source": [
        "df_emoji_text.to_csv(\"./drive/MyDrive/Comp 642 data/tweets_emoji_text.csv\",  mode='w', index=False)"
      ],
      "metadata": {
        "id": "1rtI_ijHeFTG"
      },
      "execution_count": null,
      "outputs": []
    },
    {
      "cell_type": "code",
      "source": [
        "df_no_emoji.head(5)"
      ],
      "metadata": {
        "id": "-HL005CGtOa4"
      },
      "execution_count": null,
      "outputs": []
    },
    {
      "cell_type": "code",
      "source": [
        "df_no_emoji.to_csv(\"./drive/MyDrive/Comp 642 data/tweets_no_emoji.csv\",  mode='w', index=False)"
      ],
      "metadata": {
        "id": "US--t5nD06s4"
      },
      "execution_count": null,
      "outputs": []
    },
    {
      "cell_type": "code",
      "source": [
        "df_emoji = pd.read_csv(\"./drive/MyDrive/Comp 642 data/tweets_emoji.csv\")\n",
        "df_emoji_text = pd.read_csv(\"./drive/MyDrive/Comp 642 data/tweets_emoji_text.csv\")\n",
        "df_no_emoji = pd.read_csv(\"./drive/MyDrive/Comp 642 data/tweets_no_emoji.csv\")"
      ],
      "metadata": {
        "id": "_M6YXIdhzh2e"
      },
      "execution_count": 32,
      "outputs": []
    },
    {
      "cell_type": "code",
      "source": [
        "df_emoji = df_emoji.dropna(subset=['processed_text'])\n",
        "df_emoji_text = df_emoji_text.dropna(subset=['processed_text'])\n",
        "df_no_emoji = df_no_emoji.dropna(subset=['processed_text'])"
      ],
      "metadata": {
        "id": "lP17XUMu3tJQ"
      },
      "execution_count": 33,
      "outputs": []
    },
    {
      "cell_type": "code",
      "source": [
        "df_emoji.head()"
      ],
      "metadata": {
        "colab": {
          "base_uri": "https://localhost:8080/",
          "height": 206
        },
        "id": "pcV0mvMnEmG0",
        "outputId": "4217d081-0a11-4f8e-87f4-ab8004cc4ad1"
      },
      "execution_count": 37,
      "outputs": [
        {
          "output_type": "execute_result",
          "data": {
            "text/plain": [
              "                                                text sentiment  \\\n",
              "0  did it hurt? when they called your finished de...  negative   \n",
              "1  I vote as of the year at the 2022  People’s Ch...  positive   \n",
              "2               if you want to come rub oil on me 🧴   positive   \n",
              "3  I’m not sure how, when, or why, but I have a f...  positive   \n",
              "4  having to complete nilou 's story quest made m...  positive   \n",
              "\n",
              "                                      processed_text  \n",
              "0                 hurt call finish design nice start  \n",
              "1                  vote year people’s choice award 🏆  \n",
              "2                                want come rub oil 🧴  \n",
              "3  i’m sure feel i’m go beautiful end something g...  \n",
              "4  complete nilou story quest make sleepy im gonn...  "
            ],
            "text/html": [
              "\n",
              "  <div id=\"df-46eba11f-4a14-4c1e-9756-7e889fce74a4\">\n",
              "    <div class=\"colab-df-container\">\n",
              "      <div>\n",
              "<style scoped>\n",
              "    .dataframe tbody tr th:only-of-type {\n",
              "        vertical-align: middle;\n",
              "    }\n",
              "\n",
              "    .dataframe tbody tr th {\n",
              "        vertical-align: top;\n",
              "    }\n",
              "\n",
              "    .dataframe thead th {\n",
              "        text-align: right;\n",
              "    }\n",
              "</style>\n",
              "<table border=\"1\" class=\"dataframe\">\n",
              "  <thead>\n",
              "    <tr style=\"text-align: right;\">\n",
              "      <th></th>\n",
              "      <th>text</th>\n",
              "      <th>sentiment</th>\n",
              "      <th>processed_text</th>\n",
              "    </tr>\n",
              "  </thead>\n",
              "  <tbody>\n",
              "    <tr>\n",
              "      <th>0</th>\n",
              "      <td>did it hurt? when they called your finished de...</td>\n",
              "      <td>negative</td>\n",
              "      <td>hurt call finish design nice start</td>\n",
              "    </tr>\n",
              "    <tr>\n",
              "      <th>1</th>\n",
              "      <td>I vote as of the year at the 2022  People’s Ch...</td>\n",
              "      <td>positive</td>\n",
              "      <td>vote year people’s choice award 🏆</td>\n",
              "    </tr>\n",
              "    <tr>\n",
              "      <th>2</th>\n",
              "      <td>if you want to come rub oil on me 🧴</td>\n",
              "      <td>positive</td>\n",
              "      <td>want come rub oil 🧴</td>\n",
              "    </tr>\n",
              "    <tr>\n",
              "      <th>3</th>\n",
              "      <td>I’m not sure how, when, or why, but I have a f...</td>\n",
              "      <td>positive</td>\n",
              "      <td>i’m sure feel i’m go beautiful end something g...</td>\n",
              "    </tr>\n",
              "    <tr>\n",
              "      <th>4</th>\n",
              "      <td>having to complete nilou 's story quest made m...</td>\n",
              "      <td>positive</td>\n",
              "      <td>complete nilou story quest make sleepy im gonn...</td>\n",
              "    </tr>\n",
              "  </tbody>\n",
              "</table>\n",
              "</div>\n",
              "      <button class=\"colab-df-convert\" onclick=\"convertToInteractive('df-46eba11f-4a14-4c1e-9756-7e889fce74a4')\"\n",
              "              title=\"Convert this dataframe to an interactive table.\"\n",
              "              style=\"display:none;\">\n",
              "        \n",
              "  <svg xmlns=\"http://www.w3.org/2000/svg\" height=\"24px\"viewBox=\"0 0 24 24\"\n",
              "       width=\"24px\">\n",
              "    <path d=\"M0 0h24v24H0V0z\" fill=\"none\"/>\n",
              "    <path d=\"M18.56 5.44l.94 2.06.94-2.06 2.06-.94-2.06-.94-.94-2.06-.94 2.06-2.06.94zm-11 1L8.5 8.5l.94-2.06 2.06-.94-2.06-.94L8.5 2.5l-.94 2.06-2.06.94zm10 10l.94 2.06.94-2.06 2.06-.94-2.06-.94-.94-2.06-.94 2.06-2.06.94z\"/><path d=\"M17.41 7.96l-1.37-1.37c-.4-.4-.92-.59-1.43-.59-.52 0-1.04.2-1.43.59L10.3 9.45l-7.72 7.72c-.78.78-.78 2.05 0 2.83L4 21.41c.39.39.9.59 1.41.59.51 0 1.02-.2 1.41-.59l7.78-7.78 2.81-2.81c.8-.78.8-2.07 0-2.86zM5.41 20L4 18.59l7.72-7.72 1.47 1.35L5.41 20z\"/>\n",
              "  </svg>\n",
              "      </button>\n",
              "      \n",
              "  <style>\n",
              "    .colab-df-container {\n",
              "      display:flex;\n",
              "      flex-wrap:wrap;\n",
              "      gap: 12px;\n",
              "    }\n",
              "\n",
              "    .colab-df-convert {\n",
              "      background-color: #E8F0FE;\n",
              "      border: none;\n",
              "      border-radius: 50%;\n",
              "      cursor: pointer;\n",
              "      display: none;\n",
              "      fill: #1967D2;\n",
              "      height: 32px;\n",
              "      padding: 0 0 0 0;\n",
              "      width: 32px;\n",
              "    }\n",
              "\n",
              "    .colab-df-convert:hover {\n",
              "      background-color: #E2EBFA;\n",
              "      box-shadow: 0px 1px 2px rgba(60, 64, 67, 0.3), 0px 1px 3px 1px rgba(60, 64, 67, 0.15);\n",
              "      fill: #174EA6;\n",
              "    }\n",
              "\n",
              "    [theme=dark] .colab-df-convert {\n",
              "      background-color: #3B4455;\n",
              "      fill: #D2E3FC;\n",
              "    }\n",
              "\n",
              "    [theme=dark] .colab-df-convert:hover {\n",
              "      background-color: #434B5C;\n",
              "      box-shadow: 0px 1px 3px 1px rgba(0, 0, 0, 0.15);\n",
              "      filter: drop-shadow(0px 1px 2px rgba(0, 0, 0, 0.3));\n",
              "      fill: #FFFFFF;\n",
              "    }\n",
              "  </style>\n",
              "\n",
              "      <script>\n",
              "        const buttonEl =\n",
              "          document.querySelector('#df-46eba11f-4a14-4c1e-9756-7e889fce74a4 button.colab-df-convert');\n",
              "        buttonEl.style.display =\n",
              "          google.colab.kernel.accessAllowed ? 'block' : 'none';\n",
              "\n",
              "        async function convertToInteractive(key) {\n",
              "          const element = document.querySelector('#df-46eba11f-4a14-4c1e-9756-7e889fce74a4');\n",
              "          const dataTable =\n",
              "            await google.colab.kernel.invokeFunction('convertToInteractive',\n",
              "                                                     [key], {});\n",
              "          if (!dataTable) return;\n",
              "\n",
              "          const docLinkHtml = 'Like what you see? Visit the ' +\n",
              "            '<a target=\"_blank\" href=https://colab.research.google.com/notebooks/data_table.ipynb>data table notebook</a>'\n",
              "            + ' to learn more about interactive tables.';\n",
              "          element.innerHTML = '';\n",
              "          dataTable['output_type'] = 'display_data';\n",
              "          await google.colab.output.renderOutput(dataTable, element);\n",
              "          const docLink = document.createElement('div');\n",
              "          docLink.innerHTML = docLinkHtml;\n",
              "          element.appendChild(docLink);\n",
              "        }\n",
              "      </script>\n",
              "    </div>\n",
              "  </div>\n",
              "  "
            ]
          },
          "metadata": {},
          "execution_count": 37
        }
      ]
    },
    {
      "cell_type": "code",
      "source": [
        "df_emoji_text.head()"
      ],
      "metadata": {
        "colab": {
          "base_uri": "https://localhost:8080/",
          "height": 206
        },
        "id": "4RMcdRELEpAM",
        "outputId": "898474de-e338-4c0a-bf08-314d0f5ddff4"
      },
      "execution_count": 35,
      "outputs": [
        {
          "output_type": "execute_result",
          "data": {
            "text/plain": [
              "                                                text sentiment  \\\n",
              "0  did it hurt? when they called your finished de...  negative   \n",
              "1  I vote as of the year at the 2022  People’s Ch...  positive   \n",
              "2               if you want to come rub oil on me 🧴   positive   \n",
              "3  I’m not sure how, when, or why, but I have a f...  positive   \n",
              "4  having to complete nilou 's story quest made m...  positive   \n",
              "\n",
              "                                      processed_text  \n",
              "0                 hurt call finish design nice start  \n",
              "1           vote year people’s choice award  trophy   \n",
              "2                  want come rub oil  lotion bottle   \n",
              "3  i’m sure feel i’m go beautiful end something g...  \n",
              "4  complete nilou story quest make sleepy im gonn...  "
            ],
            "text/html": [
              "\n",
              "  <div id=\"df-d722eab8-1a64-435c-beee-ed0b1c69fb28\">\n",
              "    <div class=\"colab-df-container\">\n",
              "      <div>\n",
              "<style scoped>\n",
              "    .dataframe tbody tr th:only-of-type {\n",
              "        vertical-align: middle;\n",
              "    }\n",
              "\n",
              "    .dataframe tbody tr th {\n",
              "        vertical-align: top;\n",
              "    }\n",
              "\n",
              "    .dataframe thead th {\n",
              "        text-align: right;\n",
              "    }\n",
              "</style>\n",
              "<table border=\"1\" class=\"dataframe\">\n",
              "  <thead>\n",
              "    <tr style=\"text-align: right;\">\n",
              "      <th></th>\n",
              "      <th>text</th>\n",
              "      <th>sentiment</th>\n",
              "      <th>processed_text</th>\n",
              "    </tr>\n",
              "  </thead>\n",
              "  <tbody>\n",
              "    <tr>\n",
              "      <th>0</th>\n",
              "      <td>did it hurt? when they called your finished de...</td>\n",
              "      <td>negative</td>\n",
              "      <td>hurt call finish design nice start</td>\n",
              "    </tr>\n",
              "    <tr>\n",
              "      <th>1</th>\n",
              "      <td>I vote as of the year at the 2022  People’s Ch...</td>\n",
              "      <td>positive</td>\n",
              "      <td>vote year people’s choice award  trophy</td>\n",
              "    </tr>\n",
              "    <tr>\n",
              "      <th>2</th>\n",
              "      <td>if you want to come rub oil on me 🧴</td>\n",
              "      <td>positive</td>\n",
              "      <td>want come rub oil  lotion bottle</td>\n",
              "    </tr>\n",
              "    <tr>\n",
              "      <th>3</th>\n",
              "      <td>I’m not sure how, when, or why, but I have a f...</td>\n",
              "      <td>positive</td>\n",
              "      <td>i’m sure feel i’m go beautiful end something g...</td>\n",
              "    </tr>\n",
              "    <tr>\n",
              "      <th>4</th>\n",
              "      <td>having to complete nilou 's story quest made m...</td>\n",
              "      <td>positive</td>\n",
              "      <td>complete nilou story quest make sleepy im gonn...</td>\n",
              "    </tr>\n",
              "  </tbody>\n",
              "</table>\n",
              "</div>\n",
              "      <button class=\"colab-df-convert\" onclick=\"convertToInteractive('df-d722eab8-1a64-435c-beee-ed0b1c69fb28')\"\n",
              "              title=\"Convert this dataframe to an interactive table.\"\n",
              "              style=\"display:none;\">\n",
              "        \n",
              "  <svg xmlns=\"http://www.w3.org/2000/svg\" height=\"24px\"viewBox=\"0 0 24 24\"\n",
              "       width=\"24px\">\n",
              "    <path d=\"M0 0h24v24H0V0z\" fill=\"none\"/>\n",
              "    <path d=\"M18.56 5.44l.94 2.06.94-2.06 2.06-.94-2.06-.94-.94-2.06-.94 2.06-2.06.94zm-11 1L8.5 8.5l.94-2.06 2.06-.94-2.06-.94L8.5 2.5l-.94 2.06-2.06.94zm10 10l.94 2.06.94-2.06 2.06-.94-2.06-.94-.94-2.06-.94 2.06-2.06.94z\"/><path d=\"M17.41 7.96l-1.37-1.37c-.4-.4-.92-.59-1.43-.59-.52 0-1.04.2-1.43.59L10.3 9.45l-7.72 7.72c-.78.78-.78 2.05 0 2.83L4 21.41c.39.39.9.59 1.41.59.51 0 1.02-.2 1.41-.59l7.78-7.78 2.81-2.81c.8-.78.8-2.07 0-2.86zM5.41 20L4 18.59l7.72-7.72 1.47 1.35L5.41 20z\"/>\n",
              "  </svg>\n",
              "      </button>\n",
              "      \n",
              "  <style>\n",
              "    .colab-df-container {\n",
              "      display:flex;\n",
              "      flex-wrap:wrap;\n",
              "      gap: 12px;\n",
              "    }\n",
              "\n",
              "    .colab-df-convert {\n",
              "      background-color: #E8F0FE;\n",
              "      border: none;\n",
              "      border-radius: 50%;\n",
              "      cursor: pointer;\n",
              "      display: none;\n",
              "      fill: #1967D2;\n",
              "      height: 32px;\n",
              "      padding: 0 0 0 0;\n",
              "      width: 32px;\n",
              "    }\n",
              "\n",
              "    .colab-df-convert:hover {\n",
              "      background-color: #E2EBFA;\n",
              "      box-shadow: 0px 1px 2px rgba(60, 64, 67, 0.3), 0px 1px 3px 1px rgba(60, 64, 67, 0.15);\n",
              "      fill: #174EA6;\n",
              "    }\n",
              "\n",
              "    [theme=dark] .colab-df-convert {\n",
              "      background-color: #3B4455;\n",
              "      fill: #D2E3FC;\n",
              "    }\n",
              "\n",
              "    [theme=dark] .colab-df-convert:hover {\n",
              "      background-color: #434B5C;\n",
              "      box-shadow: 0px 1px 3px 1px rgba(0, 0, 0, 0.15);\n",
              "      filter: drop-shadow(0px 1px 2px rgba(0, 0, 0, 0.3));\n",
              "      fill: #FFFFFF;\n",
              "    }\n",
              "  </style>\n",
              "\n",
              "      <script>\n",
              "        const buttonEl =\n",
              "          document.querySelector('#df-d722eab8-1a64-435c-beee-ed0b1c69fb28 button.colab-df-convert');\n",
              "        buttonEl.style.display =\n",
              "          google.colab.kernel.accessAllowed ? 'block' : 'none';\n",
              "\n",
              "        async function convertToInteractive(key) {\n",
              "          const element = document.querySelector('#df-d722eab8-1a64-435c-beee-ed0b1c69fb28');\n",
              "          const dataTable =\n",
              "            await google.colab.kernel.invokeFunction('convertToInteractive',\n",
              "                                                     [key], {});\n",
              "          if (!dataTable) return;\n",
              "\n",
              "          const docLinkHtml = 'Like what you see? Visit the ' +\n",
              "            '<a target=\"_blank\" href=https://colab.research.google.com/notebooks/data_table.ipynb>data table notebook</a>'\n",
              "            + ' to learn more about interactive tables.';\n",
              "          element.innerHTML = '';\n",
              "          dataTable['output_type'] = 'display_data';\n",
              "          await google.colab.output.renderOutput(dataTable, element);\n",
              "          const docLink = document.createElement('div');\n",
              "          docLink.innerHTML = docLinkHtml;\n",
              "          element.appendChild(docLink);\n",
              "        }\n",
              "      </script>\n",
              "    </div>\n",
              "  </div>\n",
              "  "
            ]
          },
          "metadata": {},
          "execution_count": 35
        }
      ]
    },
    {
      "cell_type": "code",
      "source": [
        "df_no_emoji.head()"
      ],
      "metadata": {
        "colab": {
          "base_uri": "https://localhost:8080/",
          "height": 206
        },
        "id": "URsj18HEErMU",
        "outputId": "9c1e9a1f-9577-4026-a1d9-0af9a59914d8"
      },
      "execution_count": 36,
      "outputs": [
        {
          "output_type": "execute_result",
          "data": {
            "text/plain": [
              "                                                text sentiment  \\\n",
              "0  did it hurt? when they called your finished de...  negative   \n",
              "1  I vote as of the year at the 2022 People’s Cho...  positive   \n",
              "2                  if you want to come rub oil on me  positive   \n",
              "3  I’m not sure how, when, or why, but I have a f...  positive   \n",
              "4  having to complete nilou 's story quest made m...  positive   \n",
              "\n",
              "                                      processed_text  \n",
              "0                 hurt call finish design nice start  \n",
              "1                    vote year people’s choice award  \n",
              "2                                  want come rub oil  \n",
              "3  i’m sure feel i’m go beautiful end something g...  \n",
              "4  complete nilou story quest make sleepy im gonn...  "
            ],
            "text/html": [
              "\n",
              "  <div id=\"df-9c928cbd-f167-413c-94c5-e3c5dff2c466\">\n",
              "    <div class=\"colab-df-container\">\n",
              "      <div>\n",
              "<style scoped>\n",
              "    .dataframe tbody tr th:only-of-type {\n",
              "        vertical-align: middle;\n",
              "    }\n",
              "\n",
              "    .dataframe tbody tr th {\n",
              "        vertical-align: top;\n",
              "    }\n",
              "\n",
              "    .dataframe thead th {\n",
              "        text-align: right;\n",
              "    }\n",
              "</style>\n",
              "<table border=\"1\" class=\"dataframe\">\n",
              "  <thead>\n",
              "    <tr style=\"text-align: right;\">\n",
              "      <th></th>\n",
              "      <th>text</th>\n",
              "      <th>sentiment</th>\n",
              "      <th>processed_text</th>\n",
              "    </tr>\n",
              "  </thead>\n",
              "  <tbody>\n",
              "    <tr>\n",
              "      <th>0</th>\n",
              "      <td>did it hurt? when they called your finished de...</td>\n",
              "      <td>negative</td>\n",
              "      <td>hurt call finish design nice start</td>\n",
              "    </tr>\n",
              "    <tr>\n",
              "      <th>1</th>\n",
              "      <td>I vote as of the year at the 2022 People’s Cho...</td>\n",
              "      <td>positive</td>\n",
              "      <td>vote year people’s choice award</td>\n",
              "    </tr>\n",
              "    <tr>\n",
              "      <th>2</th>\n",
              "      <td>if you want to come rub oil on me</td>\n",
              "      <td>positive</td>\n",
              "      <td>want come rub oil</td>\n",
              "    </tr>\n",
              "    <tr>\n",
              "      <th>3</th>\n",
              "      <td>I’m not sure how, when, or why, but I have a f...</td>\n",
              "      <td>positive</td>\n",
              "      <td>i’m sure feel i’m go beautiful end something g...</td>\n",
              "    </tr>\n",
              "    <tr>\n",
              "      <th>4</th>\n",
              "      <td>having to complete nilou 's story quest made m...</td>\n",
              "      <td>positive</td>\n",
              "      <td>complete nilou story quest make sleepy im gonn...</td>\n",
              "    </tr>\n",
              "  </tbody>\n",
              "</table>\n",
              "</div>\n",
              "      <button class=\"colab-df-convert\" onclick=\"convertToInteractive('df-9c928cbd-f167-413c-94c5-e3c5dff2c466')\"\n",
              "              title=\"Convert this dataframe to an interactive table.\"\n",
              "              style=\"display:none;\">\n",
              "        \n",
              "  <svg xmlns=\"http://www.w3.org/2000/svg\" height=\"24px\"viewBox=\"0 0 24 24\"\n",
              "       width=\"24px\">\n",
              "    <path d=\"M0 0h24v24H0V0z\" fill=\"none\"/>\n",
              "    <path d=\"M18.56 5.44l.94 2.06.94-2.06 2.06-.94-2.06-.94-.94-2.06-.94 2.06-2.06.94zm-11 1L8.5 8.5l.94-2.06 2.06-.94-2.06-.94L8.5 2.5l-.94 2.06-2.06.94zm10 10l.94 2.06.94-2.06 2.06-.94-2.06-.94-.94-2.06-.94 2.06-2.06.94z\"/><path d=\"M17.41 7.96l-1.37-1.37c-.4-.4-.92-.59-1.43-.59-.52 0-1.04.2-1.43.59L10.3 9.45l-7.72 7.72c-.78.78-.78 2.05 0 2.83L4 21.41c.39.39.9.59 1.41.59.51 0 1.02-.2 1.41-.59l7.78-7.78 2.81-2.81c.8-.78.8-2.07 0-2.86zM5.41 20L4 18.59l7.72-7.72 1.47 1.35L5.41 20z\"/>\n",
              "  </svg>\n",
              "      </button>\n",
              "      \n",
              "  <style>\n",
              "    .colab-df-container {\n",
              "      display:flex;\n",
              "      flex-wrap:wrap;\n",
              "      gap: 12px;\n",
              "    }\n",
              "\n",
              "    .colab-df-convert {\n",
              "      background-color: #E8F0FE;\n",
              "      border: none;\n",
              "      border-radius: 50%;\n",
              "      cursor: pointer;\n",
              "      display: none;\n",
              "      fill: #1967D2;\n",
              "      height: 32px;\n",
              "      padding: 0 0 0 0;\n",
              "      width: 32px;\n",
              "    }\n",
              "\n",
              "    .colab-df-convert:hover {\n",
              "      background-color: #E2EBFA;\n",
              "      box-shadow: 0px 1px 2px rgba(60, 64, 67, 0.3), 0px 1px 3px 1px rgba(60, 64, 67, 0.15);\n",
              "      fill: #174EA6;\n",
              "    }\n",
              "\n",
              "    [theme=dark] .colab-df-convert {\n",
              "      background-color: #3B4455;\n",
              "      fill: #D2E3FC;\n",
              "    }\n",
              "\n",
              "    [theme=dark] .colab-df-convert:hover {\n",
              "      background-color: #434B5C;\n",
              "      box-shadow: 0px 1px 3px 1px rgba(0, 0, 0, 0.15);\n",
              "      filter: drop-shadow(0px 1px 2px rgba(0, 0, 0, 0.3));\n",
              "      fill: #FFFFFF;\n",
              "    }\n",
              "  </style>\n",
              "\n",
              "      <script>\n",
              "        const buttonEl =\n",
              "          document.querySelector('#df-9c928cbd-f167-413c-94c5-e3c5dff2c466 button.colab-df-convert');\n",
              "        buttonEl.style.display =\n",
              "          google.colab.kernel.accessAllowed ? 'block' : 'none';\n",
              "\n",
              "        async function convertToInteractive(key) {\n",
              "          const element = document.querySelector('#df-9c928cbd-f167-413c-94c5-e3c5dff2c466');\n",
              "          const dataTable =\n",
              "            await google.colab.kernel.invokeFunction('convertToInteractive',\n",
              "                                                     [key], {});\n",
              "          if (!dataTable) return;\n",
              "\n",
              "          const docLinkHtml = 'Like what you see? Visit the ' +\n",
              "            '<a target=\"_blank\" href=https://colab.research.google.com/notebooks/data_table.ipynb>data table notebook</a>'\n",
              "            + ' to learn more about interactive tables.';\n",
              "          element.innerHTML = '';\n",
              "          dataTable['output_type'] = 'display_data';\n",
              "          await google.colab.output.renderOutput(dataTable, element);\n",
              "          const docLink = document.createElement('div');\n",
              "          docLink.innerHTML = docLinkHtml;\n",
              "          element.appendChild(docLink);\n",
              "        }\n",
              "      </script>\n",
              "    </div>\n",
              "  </div>\n",
              "  "
            ]
          },
          "metadata": {},
          "execution_count": 36
        }
      ]
    },
    {
      "cell_type": "markdown",
      "source": [
        "# Wordcloud"
      ],
      "metadata": {
        "id": "rC-iSjactS1H"
      }
    },
    {
      "cell_type": "code",
      "source": [
        "all_words_1 = ' '.join([text for text in df_emoji['processed_text']]) \n",
        "all_words_2 = ' '.join([text for text in df_emoji_text['processed_text']]) \n",
        "all_words_3 = ' '.join([text for text in df_no_emoji['processed_text']])\n",
        "\n",
        "# create the WordCloud objects\n",
        "wordcloud_1 = WordCloud(width=400, height=250, random_state=21, max_font_size=110).generate(all_words_1)\n",
        "wordcloud_2 = WordCloud(width=400, height=250, random_state=21, max_font_size=110).generate(all_words_2)\n",
        "wordcloud_3 = WordCloud(width=400, height=250, random_state=21, max_font_size=110).generate(all_words_3)\n",
        "\n",
        "# create the subplots and display the WordClouds\n",
        "fig, axes = plt.subplots(nrows=1, ncols=3, figsize=(12, 10))\n",
        "axes[0].imshow(wordcloud_1, interpolation='bilinear')\n",
        "axes[0].set_title('text with emojis')\n",
        "axes[0].axis('off')\n",
        "axes[1].imshow(wordcloud_2, interpolation='bilinear')\n",
        "axes[1].set_title('text with emojis replaced by text')\n",
        "axes[1].axis('off')\n",
        "axes[2].imshow(wordcloud_3, interpolation='bilinear')\n",
        "axes[2].set_title('text without emojis')\n",
        "axes[2].axis('off')\n",
        "plt.savefig(\"./drive/MyDrive/Comp 642 data/wordclouds.png\", dpi=1000)\n",
        "plt.show()"
      ],
      "metadata": {
        "id": "yKqW4JvJbRTq",
        "colab": {
          "base_uri": "https://localhost:8080/",
          "height": 230
        },
        "outputId": "450ebf9c-b0bb-4689-ea44-05a7f4bf0007"
      },
      "execution_count": 31,
      "outputs": [
        {
          "output_type": "display_data",
          "data": {
            "text/plain": [
              "<Figure size 1200x1000 with 3 Axes>"
            ],
            "image/png": "[encoded data removed]"
          },
          "metadata": {}
        }
      ]
    },
    {
      "cell_type": "markdown",
      "source": [
        "# Presentation: Bag-of-Words"
      ],
      "metadata": {
        "id": "ImzSkTUAuh1S"
      }
    },
    {
      "cell_type": "code",
      "source": [
        "vectorizer = CountVectorizer()\n",
        "bag_of_words = vectorizer.fit_transform(df_emoji['processed_text'])\n",
        "df_emoji_bow = csr_matrix(bag_of_words)"
      ],
      "metadata": {
        "id": "hUnSquwBug-_"
      },
      "execution_count": null,
      "outputs": []
    },
    {
      "cell_type": "code",
      "source": [
        "bag_of_words = vectorizer.fit_transform(df_emoji_text['processed_text'])\n",
        "df_emoji_bow = csr_matrix(bag_of_words)"
      ],
      "metadata": {
        "id": "SsrZCFohapnE"
      },
      "execution_count": null,
      "outputs": []
    },
    {
      "cell_type": "code",
      "source": [
        "bag_of_words = vectorizer.fit_transform(df_no_emoji['processed_text'])\n",
        "df_no_emoji_bow = csr_matrix(bag_of_words)"
      ],
      "metadata": {
        "id": "ZS5XkA0huhYT"
      },
      "execution_count": null,
      "outputs": []
    },
    {
      "cell_type": "markdown",
      "source": [
        "# Sentiment Analysis Algorithms\n",
        "In this step, we shall fit the data in various calssifier and calculate various metrics of accuracy The algroithms we shall use are:\n",
        "\n",
        "1. Naive Bayes\n",
        "2. Logistic Regression\n",
        "3. Random Forest\n",
        "4. Linear SVC\n",
        "5. XGBoost\n",
        "\n",
        "The metrics of accuracy we shall use are:\n",
        "1. Confusion Matrix\n",
        "2. Accuracy Scores\n",
        "3. Classification Report\n",
        "We shall go with TF-IDF Vectorization for this case"
      ],
      "metadata": {
        "id": "RSHST8-_ArfT"
      }
    },
    {
      "cell_type": "markdown",
      "source": [
        "# Bag-of-Words"
      ],
      "metadata": {
        "id": "husRrxFykf7K"
      }
    },
    {
      "cell_type": "markdown",
      "source": [
        "# text with emojis"
      ],
      "metadata": {
        "id": "SVgoabZ6byJN"
      }
    },
    {
      "cell_type": "code",
      "source": [
        "X = df_emoji[\"processed_text\"]\n",
        "y = df_emoji['sentiment']"
      ],
      "metadata": {
        "id": "Y39eBXRHTEFd"
      },
      "execution_count": 34,
      "outputs": []
    },
    {
      "cell_type": "code",
      "source": [
        "X_train_emoji, X_test_emoji, y_train_emoji, y_test_emoji = train_test_split(X, y, test_size=0.15, random_state=1, stratify=y)"
      ],
      "metadata": {
        "id": "cO8O2P95Aq_s"
      },
      "execution_count": null,
      "outputs": []
    },
    {
      "cell_type": "code",
      "source": [
        "#Building a pipeline\n",
        "#Naive Bayes\n",
        "classifier_nb = Pipeline([('bag_of_words',CountVectorizer()),\n",
        "('clf',MultinomialNB())])\n",
        "\n",
        "#Logistic regression\n",
        "classifier_lr = Pipeline([('bag_of_words',CountVectorizer()),\n",
        "('clf',LogisticRegression(solver='saga'))])\n",
        "\n",
        "#Random Forest\n",
        "classifier_rf = Pipeline([('bag_of_words',CountVectorizer()),\n",
        "('clf',RandomForestClassifier(bootstrap= False, criterion= 'entropy', n_estimators= 100))])\n",
        "\n",
        "#Linear SVC\n",
        "classifier_svc = Pipeline([('bag_of_words',CountVectorizer()),\n",
        "('clf',LinearSVC())])"
      ],
      "metadata": {
        "id": "cGR--9ZhTQe3"
      },
      "execution_count": 10,
      "outputs": []
    },
    {
      "cell_type": "code",
      "source": [
        "def analyze(clf, X_test, X_train, y_train, y_test):\n",
        "  #Predicting\n",
        "  y_pred = clf.predict(X_test)\n",
        "  yt_pred = clf.predict(X_train)\n",
        "  #Analyzing\n",
        "  cm = confusion_matrix(y_test,y_pred)\n",
        "  print(f'Confusion Matrix :\\n {cm}\\n')\n",
        "  print(f'Test Set Accuracy Score :\\n {accuracy_score(y_test,y_pred)}\\n')\n",
        "  print(f'Train Set Accuracy Score :\\n {accuracy_score(y_train,yt_pred)}\\n')\n",
        "  print(f'Classification Report :\\n {classification_report(y_test,y_pred)}')"
      ],
      "metadata": {
        "id": "8jf1e8MnVhmI"
      },
      "execution_count": 11,
      "outputs": []
    },
    {
      "cell_type": "code",
      "source": [
        "clfs = [classifier_nb, classifier_lr, classifier_rf, classifier_svc]"
      ],
      "metadata": {
        "id": "C7gnr43kVkr_"
      },
      "execution_count": 12,
      "outputs": []
    },
    {
      "cell_type": "code",
      "source": [
        "for clf in clfs:\n",
        "  clf.fit(X_train_emoji, y_train_emoji)\n",
        "  analyze(clf, X_test_emoji, X_train_emoji, y_train_emoji, y_test_emoji)\n",
        "  print(\"================================================================\")"
      ],
      "metadata": {
        "colab": {
          "base_uri": "https://localhost:8080/"
        },
        "id": "K1_uNG1qVpIN",
        "outputId": "30943588-331a-4e69-fe20-880a98584ce1"
      },
      "execution_count": null,
      "outputs": [
        {
          "output_type": "stream",
          "name": "stdout",
          "text": [
            "Confusion Matrix :\n",
            " [[21121  2236  3902]\n",
            " [ 3080 29311  9552]\n",
            " [ 2912  1970 40777]]\n",
            "\n",
            "Test Set Accuracy Score :\n",
            " 0.7940815420377674\n",
            "\n",
            "Train Set Accuracy Score :\n",
            " 0.8318952669794768\n",
            "\n",
            "Classification Report :\n",
            "               precision    recall  f1-score   support\n",
            "\n",
            "    negative       0.78      0.77      0.78     27259\n",
            "     neutral       0.87      0.70      0.78     41943\n",
            "    positive       0.75      0.89      0.82     45659\n",
            "\n",
            "    accuracy                           0.79    114861\n",
            "   macro avg       0.80      0.79      0.79    114861\n",
            "weighted avg       0.80      0.79      0.79    114861\n",
            "\n",
            "================================================================\n"
          ]
        },
        {
          "output_type": "stream",
          "name": "stderr",
          "text": [
            "/usr/local/lib/python3.9/dist-packages/sklearn/linear_model/_sag.py:350: ConvergenceWarning: The max_iter was reached which means the coef_ did not converge\n",
            "  warnings.warn(\n"
          ]
        },
        {
          "output_type": "stream",
          "name": "stdout",
          "text": [
            "Confusion Matrix :\n",
            " [[23267  2046  1946]\n",
            " [ 1286 39083  1574]\n",
            " [ 1588  1326 42745]]\n",
            "\n",
            "Test Set Accuracy Score :\n",
            " 0.9149754921165583\n",
            "\n",
            "Train Set Accuracy Score :\n",
            " 0.9288648801457732\n",
            "\n",
            "Classification Report :\n",
            "               precision    recall  f1-score   support\n",
            "\n",
            "    negative       0.89      0.85      0.87     27259\n",
            "     neutral       0.92      0.93      0.93     41943\n",
            "    positive       0.92      0.94      0.93     45659\n",
            "\n",
            "    accuracy                           0.91    114861\n",
            "   macro avg       0.91      0.91      0.91    114861\n",
            "weighted avg       0.91      0.91      0.91    114861\n",
            "\n",
            "================================================================\n",
            "Confusion Matrix :\n",
            " [[22800  2155  2304]\n",
            " [ 1048 39609  1286]\n",
            " [ 1305  1532 42822]]\n",
            "\n",
            "Test Set Accuracy Score :\n",
            " 0.9161595319560164\n",
            "\n",
            "Train Set Accuracy Score :\n",
            " 0.9967658870995001\n",
            "\n",
            "Classification Report :\n",
            "               precision    recall  f1-score   support\n",
            "\n",
            "    negative       0.91      0.84      0.87     27259\n",
            "     neutral       0.91      0.94      0.93     41943\n",
            "    positive       0.92      0.94      0.93     45659\n",
            "\n",
            "    accuracy                           0.92    114861\n",
            "   macro avg       0.91      0.91      0.91    114861\n",
            "weighted avg       0.92      0.92      0.92    114861\n",
            "\n",
            "================================================================\n"
          ]
        },
        {
          "output_type": "stream",
          "name": "stderr",
          "text": [
            "/usr/local/lib/python3.9/dist-packages/sklearn/svm/_base.py:1244: ConvergenceWarning: Liblinear failed to converge, increase the number of iterations.\n",
            "  warnings.warn(\n"
          ]
        },
        {
          "output_type": "stream",
          "name": "stdout",
          "text": [
            "Confusion Matrix :\n",
            " [[23243  2085  1931]\n",
            " [ 1396 38904  1643]\n",
            " [ 1591  1370 42698]]\n",
            "\n",
            "Test Set Accuracy Score :\n",
            " 0.912798948294025\n",
            "\n",
            "Train Set Accuracy Score :\n",
            " 0.9454118615891862\n",
            "\n",
            "Classification Report :\n",
            "               precision    recall  f1-score   support\n",
            "\n",
            "    negative       0.89      0.85      0.87     27259\n",
            "     neutral       0.92      0.93      0.92     41943\n",
            "    positive       0.92      0.94      0.93     45659\n",
            "\n",
            "    accuracy                           0.91    114861\n",
            "   macro avg       0.91      0.91      0.91    114861\n",
            "weighted avg       0.91      0.91      0.91    114861\n",
            "\n",
            "================================================================\n"
          ]
        }
      ]
    },
    {
      "cell_type": "code",
      "source": [
        "label_map = {'negative': 0, 'neutral': 1, 'positive': 2}\n",
        "y_train_emoji_int = [label_map[label] for label in y_train_emoji]\n",
        "y_test_emoji_int = [label_map[label] for label in y_test_emoji]\n",
        "\n",
        "# Now you can use the integer-encoded labels in the XGBoost pipeline\n",
        "classifier_xgb = Pipeline([('bag_of_words', CountVectorizer()),    \n",
        "                           ('clf', xgb.XGBClassifier())])\n",
        "\n",
        "classifier_xgb.fit(X_train_emoji, y_train_emoji_int)\n",
        "analyze(classifier_xgb, X_test_emoji, X_train_emoji, y_train_emoji_int, y_test_emoji_int)"
      ],
      "metadata": {
        "colab": {
          "base_uri": "https://localhost:8080/"
        },
        "id": "WrNFIRuGyl6-",
        "outputId": "1229f889-a9ee-4103-a600-8f8c189f9a81"
      },
      "execution_count": null,
      "outputs": [
        {
          "output_type": "stream",
          "name": "stdout",
          "text": [
            "Confusion Matrix :\n",
            " [[15039  9306  2914]\n",
            " [  653 39988  1302]\n",
            " [ 1265  7833 36561]]\n",
            "\n",
            "Test Set Accuracy Score :\n",
            " 0.7973811824727279\n",
            "\n",
            "Train Set Accuracy Score :\n",
            " 0.798787476531556\n",
            "\n",
            "Classification Report :\n",
            "               precision    recall  f1-score   support\n",
            "\n",
            "           0       0.89      0.55      0.68     27259\n",
            "           1       0.70      0.95      0.81     41943\n",
            "           2       0.90      0.80      0.85     45659\n",
            "\n",
            "    accuracy                           0.80    114861\n",
            "   macro avg       0.83      0.77      0.78    114861\n",
            "weighted avg       0.82      0.80      0.79    114861\n",
            "\n"
          ]
        }
      ]
    },
    {
      "cell_type": "code",
      "source": [
        "# Preprocess the text\n",
        "max_features = 2000\n",
        "tokenizer = Tokenizer(num_words=max_features, split=' ')\n",
        "tokenizer.fit_on_texts(df_emoji['text'].values)\n",
        "X = tokenizer.texts_to_sequences(df_emoji['text'].values)\n",
        "X = pad_sequences(X)\n",
        "\n",
        "# One-hot encode the labels\n",
        "Y = pd.get_dummies(df_emoji['sentiment']).values\n",
        "\n",
        "# Split the data into training and testing sets\n",
        "X_train, X_test, Y_train, Y_test = train_test_split(X, Y, test_size=0.15, random_state=42)\n",
        "\n",
        "# Define the LSTM model\n",
        "embed_dim = 128\n",
        "lstm_out = 196\n",
        "model = Sequential()\n",
        "model.add(Embedding(max_features, embed_dim, input_length=X.shape[1]))\n",
        "model.add(SpatialDropout1D(0.4))\n",
        "model.add(LSTM(lstm_out, dropout=0.2, recurrent_dropout=0.2))\n",
        "model.add(Dense(3, activation='softmax'))\n",
        "model.compile(loss='categorical_crossentropy', optimizer='adam', metrics=['accuracy'])\n",
        "print(model.summary())\n",
        "\n",
        "# Train the model\n",
        "batch_size = 64\n",
        "epochs = 7\n",
        "model.fit(X_train, Y_train, epochs=epochs, batch_size=batch_size, verbose=2)\n",
        "\n",
        "# Evaluate the model on the test set\n",
        "loss, accuracy = model.evaluate(X_test, Y_test)\n",
        "print('Test accuracy:', accuracy)"
      ],
      "metadata": {
        "colab": {
          "base_uri": "https://localhost:8080/"
        },
        "id": "Eu5qm2YVAAuA",
        "outputId": "56483c01-05e1-4c50-b14f-c5fd1c5c4c37"
      },
      "execution_count": 8,
      "outputs": [
        {
          "output_type": "stream",
          "name": "stderr",
          "text": [
            "WARNING:tensorflow:Layer lstm will not use cuDNN kernels since it doesn't meet the criteria. It will use a generic GPU kernel as fallback when running on GPU.\n"
          ]
        },
        {
          "output_type": "stream",
          "name": "stdout",
          "text": [
            "Model: \"sequential\"\n",
            "_________________________________________________________________\n",
            " Layer (type)                Output Shape              Param #   \n",
            "=================================================================\n",
            " embedding (Embedding)       (None, 37, 128)           256000    \n",
            "                                                                 \n",
            " spatial_dropout1d (SpatialD  (None, 37, 128)          0         \n",
            " ropout1D)                                                       \n",
            "                                                                 \n",
            " lstm (LSTM)                 (None, 196)               254800    \n",
            "                                                                 \n",
            " dense (Dense)               (None, 3)                 591       \n",
            "                                                                 \n",
            "=================================================================\n",
            "Total params: 511,391\n",
            "Trainable params: 511,391\n",
            "Non-trainable params: 0\n",
            "_________________________________________________________________\n",
            "None\n",
            "Epoch 1/7\n",
            "10113/10113 - 1398s - loss: 0.4824 - accuracy: 0.8317 - 1398s/epoch - 138ms/step\n",
            "Epoch 2/7\n",
            "10113/10113 - 1362s - loss: 0.4303 - accuracy: 0.8523 - 1362s/epoch - 135ms/step\n",
            "Epoch 3/7\n",
            "10113/10113 - 1385s - loss: 0.4107 - accuracy: 0.8595 - 1385s/epoch - 137ms/step\n",
            "Epoch 4/7\n",
            "10113/10113 - 1361s - loss: 0.3977 - accuracy: 0.8646 - 1361s/epoch - 135ms/step\n",
            "Epoch 5/7\n",
            "10113/10113 - 1338s - loss: 0.3891 - accuracy: 0.8676 - 1338s/epoch - 132ms/step\n",
            "Epoch 6/7\n",
            "10113/10113 - 1334s - loss: 0.3826 - accuracy: 0.8696 - 1334s/epoch - 132ms/step\n",
            "Epoch 7/7\n",
            "10113/10113 - 1310s - loss: 0.3784 - accuracy: 0.8712 - 1310s/epoch - 130ms/step\n",
            "3570/3570 [==============================] - 43s 12ms/step - loss: 0.3873 - accuracy: 0.8703\n",
            "Test accuracy: 0.870286226272583\n"
          ]
        }
      ]
    },
    {
      "cell_type": "markdown",
      "source": [
        "## text with emojis replaced by text"
      ],
      "metadata": {
        "id": "V9aRX_Shb7JA"
      }
    },
    {
      "cell_type": "code",
      "source": [
        "X = df_emoji_text[\"processed_text\"]\n",
        "y = df_emoji_text['sentiment']"
      ],
      "metadata": {
        "id": "fdD2Vzonb-Va"
      },
      "execution_count": 11,
      "outputs": []
    },
    {
      "cell_type": "code",
      "source": [
        "X_train_emoji_text, X_test_emoji_text, y_train_emoji_text, y_test_emoji_text = train_test_split(X, y, test_size=0.15, random_state=1, stratify=y)"
      ],
      "metadata": {
        "id": "yCMP_Iqr4cPA"
      },
      "execution_count": 19,
      "outputs": []
    },
    {
      "cell_type": "code",
      "source": [
        "for clf in clfs:\n",
        "  clf.fit(X_train_emoji_text, y_train_emoji_text)\n",
        "  analyze(clf, X_test_emoji_text, X_train_emoji_text, y_train_emoji_text, y_test_emoji_text)\n",
        "  print(\"================================================================\")"
      ],
      "metadata": {
        "id": "SYvkMseb4iqJ",
        "colab": {
          "base_uri": "https://localhost:8080/"
        },
        "outputId": "11d1d978-f91d-45e6-a989-b3d2dc2986b8"
      },
      "execution_count": 15,
      "outputs": [
        {
          "metadata": {
            "tags": null
          },
          "name": "stdout",
          "output_type": "stream",
          "text": [
            "Confusion Matrix :\n",
            " [[20844  2653  3717]\n",
            " [ 3699 29141  8517]\n",
            " [ 3426  2541 39674]]\n",
            "\n",
            "Test Set Accuracy Score :\n",
            " 0.7850225895702728\n",
            "\n",
            "Train Set Accuracy Score :\n",
            " 0.8243559574228099\n",
            "\n",
            "Classification Report :\n",
            "               precision    recall  f1-score   support\n",
            "\n",
            "    negative       0.75      0.77      0.76     27214\n",
            "     neutral       0.85      0.70      0.77     41357\n",
            "    positive       0.76      0.87      0.81     45641\n",
            "\n",
            "    accuracy                           0.79    114212\n",
            "   macro avg       0.79      0.78      0.78    114212\n",
            "weighted avg       0.79      0.79      0.78    114212\n",
            "\n",
            "================================================================\n"
          ]
        },
        {
          "metadata": {
            "tags": null
          },
          "name": "stderr",
          "output_type": "stream",
          "text": [
            "/usr/local/lib/python3.10/dist-packages/sklearn/linear_model/_sag.py:350: ConvergenceWarning: The max_iter was reached which means the coef_ did not converge\n",
            "  warnings.warn(\n"
          ]
        },
        {
          "output_type": "stream",
          "name": "stdout",
          "text": [
            "Confusion Matrix :\n",
            " [[18234  5808  3172]\n",
            " [ 1377 38192  1788]\n",
            " [ 1814  4984 38843]]\n",
            "\n",
            "Test Set Accuracy Score :\n",
            " 0.8341417714425805\n",
            "\n",
            "Train Set Accuracy Score :\n",
            " 0.8368945659849104\n",
            "\n",
            "Classification Report :\n",
            "               precision    recall  f1-score   support\n",
            "\n",
            "    negative       0.85      0.67      0.75     27214\n",
            "     neutral       0.78      0.92      0.85     41357\n",
            "    positive       0.89      0.85      0.87     45641\n",
            "\n",
            "    accuracy                           0.83    114212\n",
            "   macro avg       0.84      0.81      0.82    114212\n",
            "weighted avg       0.84      0.83      0.83    114212\n",
            "\n",
            "================================================================\n",
            "Confusion Matrix :\n",
            " [[22439  2333  2442]\n",
            " [  957 39066  1334]\n",
            " [ 1302  1754 42585]]\n",
            "\n",
            "Test Set Accuracy Score :\n",
            " 0.9113753370924246\n",
            "\n",
            "Train Set Accuracy Score :\n",
            " 0.9980083467114544\n",
            "\n",
            "Classification Report :\n",
            "               precision    recall  f1-score   support\n",
            "\n",
            "    negative       0.91      0.82      0.86     27214\n",
            "     neutral       0.91      0.94      0.92     41357\n",
            "    positive       0.92      0.93      0.93     45641\n",
            "\n",
            "    accuracy                           0.91    114212\n",
            "   macro avg       0.91      0.90      0.90    114212\n",
            "weighted avg       0.91      0.91      0.91    114212\n",
            "\n",
            "================================================================\n"
          ]
        },
        {
          "output_type": "stream",
          "name": "stderr",
          "text": [
            "/usr/local/lib/python3.10/dist-packages/sklearn/svm/_base.py:1244: ConvergenceWarning: Liblinear failed to converge, increase the number of iterations.\n",
            "  warnings.warn(\n"
          ]
        },
        {
          "output_type": "stream",
          "name": "stdout",
          "text": [
            "Confusion Matrix :\n",
            " [[23154  2114  1946]\n",
            " [ 1390 38312  1655]\n",
            " [ 1673  1494 42474]]\n",
            "\n",
            "Test Set Accuracy Score :\n",
            " 0.9100619899835394\n",
            "\n",
            "Train Set Accuracy Score :\n",
            " 0.9441224596377323\n",
            "\n",
            "Classification Report :\n",
            "               precision    recall  f1-score   support\n",
            "\n",
            "    negative       0.88      0.85      0.87     27214\n",
            "     neutral       0.91      0.93      0.92     41357\n",
            "    positive       0.92      0.93      0.93     45641\n",
            "\n",
            "    accuracy                           0.91    114212\n",
            "   macro avg       0.91      0.90      0.90    114212\n",
            "weighted avg       0.91      0.91      0.91    114212\n",
            "\n",
            "================================================================\n"
          ]
        }
      ]
    },
    {
      "cell_type": "code",
      "source": [
        "label_map = {'negative': 0, 'neutral': 1, 'positive': 2}\n",
        "y_train_emoji_int = [label_map[label] for label in y_train_emoji_text]\n",
        "y_test_emoji_int = [label_map[label] for label in y_test_emoji_text]\n",
        "\n",
        "# Now you can use the integer-encoded labels in the XGBoost pipeline\n",
        "classifier_xgb = Pipeline([('bag_of_words', CountVectorizer()),    \n",
        "                           ('clf', xgb.XGBClassifier())])\n",
        "\n",
        "classifier_xgb.fit(X_train_emoji_text, y_train_emoji_int)\n",
        "analyze(classifier_xgb, X_test_emoji_text, X_train_emoji_text, y_train_emoji_int, y_test_emoji_int)"
      ],
      "metadata": {
        "id": "StuHsGRiO2I_",
        "colab": {
          "base_uri": "https://localhost:8080/"
        },
        "outputId": "28ce470e-224d-498e-a081-bfb5e70b8a84"
      },
      "execution_count": 22,
      "outputs": [
        {
          "output_type": "stream",
          "name": "stdout",
          "text": [
            "Confusion Matrix :\n",
            " [[14953  9270  2991]\n",
            " [  592 39459  1306]\n",
            " [ 1257  7810 36574]]\n",
            "\n",
            "Test Set Accuracy Score :\n",
            " 0.7966413336602108\n",
            "\n",
            "Train Set Accuracy Score :\n",
            " 0.7987116830783636\n",
            "\n",
            "Classification Report :\n",
            "               precision    recall  f1-score   support\n",
            "\n",
            "           0       0.89      0.55      0.68     27214\n",
            "           1       0.70      0.95      0.81     41357\n",
            "           2       0.89      0.80      0.85     45641\n",
            "\n",
            "    accuracy                           0.80    114212\n",
            "   macro avg       0.83      0.77      0.78    114212\n",
            "weighted avg       0.82      0.80      0.79    114212\n",
            "\n"
          ]
        }
      ]
    },
    {
      "cell_type": "code",
      "source": [
        "# Preprocess the text\n",
        "max_features = 2000\n",
        "tokenizer = Tokenizer(num_words=max_features, split=' ')\n",
        "tokenizer.fit_on_texts(df_emoji_text[\"processed_text\"].values)\n",
        "X = tokenizer.texts_to_sequences(df_emoji_text[\"processed_text\"].values)\n",
        "X = pad_sequences(X)\n",
        "\n",
        "# One-hot encode the labels\n",
        "Y = pd.get_dummies(df_emoji_text['sentiment']).values\n",
        "\n",
        "# Split the data into training and testing sets\n",
        "X_train, X_test, Y_train, Y_test = train_test_split(X, Y, test_size=0.15, random_state=42)\n",
        "\n",
        "# Define the LSTM model\n",
        "embed_dim = 128\n",
        "lstm_out = 196\n",
        "model = Sequential()\n",
        "model.add(Embedding(max_features, embed_dim, input_length=X.shape[1]))\n",
        "model.add(SpatialDropout1D(0.4))\n",
        "model.add(LSTM(lstm_out, dropout=0.2, recurrent_dropout=0.2))\n",
        "model.add(Dense(3, activation='softmax'))\n",
        "model.compile(loss='categorical_crossentropy', optimizer='adam', metrics=['accuracy'])\n",
        "print(model.summary())\n",
        "\n",
        "# Train the model\n",
        "batch_size = 64\n",
        "epochs = 7\n",
        "model.fit(X_train, Y_train, epochs=epochs, batch_size=batch_size, verbose=2)\n",
        "\n",
        "# Evaluate the model on the test set\n",
        "loss, accuracy = model.evaluate(X_test, Y_test)\n",
        "print('Test accuracy:', accuracy)"
      ],
      "metadata": {
        "colab": {
          "base_uri": "https://localhost:8080/"
        },
        "id": "uRJLreZMCr53",
        "outputId": "03a595a6-995e-4e13-8b8d-d1dc3599dec4"
      },
      "execution_count": null,
      "outputs": [
        {
          "metadata": {
            "tags": null
          },
          "name": "stderr",
          "output_type": "stream",
          "text": [
            "WARNING:tensorflow:Layer lstm_1 will not use cuDNN kernels since it doesn't meet the criteria. It will use a generic GPU kernel as fallback when running on GPU.\n"
          ]
        },
        {
          "output_type": "stream",
          "name": "stdout",
          "text": [
            "Model: \"sequential_1\"\n",
            "_________________________________________________________________\n",
            " Layer (type)                Output Shape              Param #   \n",
            "=================================================================\n",
            " embedding_1 (Embedding)     (None, 413, 128)          256000    \n",
            "                                                                 \n",
            " spatial_dropout1d_1 (Spatia  (None, 413, 128)         0         \n",
            " lDropout1D)                                                     \n",
            "                                                                 \n",
            " lstm_1 (LSTM)               (None, 196)               254800    \n",
            "                                                                 \n",
            " dense_1 (Dense)             (None, 3)                 591       \n",
            "                                                                 \n",
            "=================================================================\n",
            "Total params: 511,391\n",
            "Trainable params: 511,391\n",
            "Non-trainable params: 0\n",
            "_________________________________________________________________\n",
            "None\n",
            "Epoch 1/7\n",
            "10113/10113 - 12220s - loss: 0.4777 - accuracy: 0.8378 - 12220s/epoch - 1s/step\n",
            "Epoch 2/7\n"
          ]
        }
      ]
    },
    {
      "cell_type": "markdown",
      "source": [
        "## text without emojis"
      ],
      "metadata": {
        "id": "-r0gqSVcb5M_"
      }
    },
    {
      "cell_type": "code",
      "source": [
        "X = df_no_emoji[\"processed_text\"]\n",
        "y = df_no_emoji['sentiment']"
      ],
      "metadata": {
        "id": "uG2xxunbz-Hd"
      },
      "execution_count": 9,
      "outputs": []
    },
    {
      "cell_type": "code",
      "source": [
        "X_train_no_emoji, X_test_no_emoji, y_train_no_emoji, y_test_no_emoji = train_test_split(X, y, test_size=0.15, random_state=1, stratify=y)"
      ],
      "metadata": {
        "id": "ycHy3e_m0DqV"
      },
      "execution_count": 24,
      "outputs": []
    },
    {
      "cell_type": "code",
      "source": [
        "for clf in clfs:\n",
        "  clf.fit(X_train_no_emoji, y_train_no_emoji)\n",
        "  analyze(clf, X_test_no_emoji, X_train_no_emoji, y_train_no_emoji, y_test_no_emoji)\n",
        "  print(\"================================================================\")"
      ],
      "metadata": {
        "colab": {
          "base_uri": "https://localhost:8080/"
        },
        "id": "a3_Q0tc60hLc",
        "outputId": "e979ff3f-7a13-48c4-c9b0-5fb30de40eeb"
      },
      "execution_count": null,
      "outputs": [
        {
          "output_type": "stream",
          "name": "stdout",
          "text": [
            "Confusion Matrix :\n",
            " [[21018  2246  3982]\n",
            " [ 2934 28950  8601]\n",
            " [ 3026  1908 40713]]\n",
            "\n",
            "Test Set Accuracy Score :\n",
            " 0.7998112508599552\n",
            "\n",
            "Train Set Accuracy Score :\n",
            " 0.8366974333431911\n",
            "\n",
            "Classification Report :\n",
            "               precision    recall  f1-score   support\n",
            "\n",
            "    negative       0.78      0.77      0.78     27246\n",
            "     neutral       0.87      0.72      0.79     40485\n",
            "    positive       0.76      0.89      0.82     45647\n",
            "\n",
            "    accuracy                           0.80    113378\n",
            "   macro avg       0.81      0.79      0.79    113378\n",
            "weighted avg       0.81      0.80      0.80    113378\n",
            "\n",
            "================================================================\n"
          ]
        },
        {
          "output_type": "stream",
          "name": "stderr",
          "text": [
            "/usr/local/lib/python3.9/dist-packages/sklearn/linear_model/_sag.py:350: ConvergenceWarning: The max_iter was reached which means the coef_ did not converge\n",
            "  warnings.warn(\n"
          ]
        },
        {
          "output_type": "stream",
          "name": "stdout",
          "text": [
            "Confusion Matrix :\n",
            " [[23132  2089  2025]\n",
            " [ 1199 37719  1567]\n",
            " [ 1569  1308 42770]]\n",
            "\n",
            "Test Set Accuracy Score :\n",
            " 0.9139427402141509\n",
            "\n",
            "Train Set Accuracy Score :\n",
            " 0.9280635671704516\n",
            "\n",
            "Classification Report :\n",
            "               precision    recall  f1-score   support\n",
            "\n",
            "    negative       0.89      0.85      0.87     27246\n",
            "     neutral       0.92      0.93      0.92     40485\n",
            "    positive       0.92      0.94      0.93     45647\n",
            "\n",
            "    accuracy                           0.91    113378\n",
            "   macro avg       0.91      0.91      0.91    113378\n",
            "weighted avg       0.91      0.91      0.91    113378\n",
            "\n",
            "================================================================\n",
            "Confusion Matrix :\n",
            " [[22856  2052  2338]\n",
            " [  974 38213  1298]\n",
            " [ 1332  1423 42892]]\n",
            "\n",
            "Test Set Accuracy Score :\n",
            " 0.9169415583270123\n",
            "\n",
            "Train Set Accuracy Score :\n",
            " 0.9968605538001775\n",
            "\n",
            "Classification Report :\n",
            "               precision    recall  f1-score   support\n",
            "\n",
            "    negative       0.91      0.84      0.87     27246\n",
            "     neutral       0.92      0.94      0.93     40485\n",
            "    positive       0.92      0.94      0.93     45647\n",
            "\n",
            "    accuracy                           0.92    113378\n",
            "   macro avg       0.92      0.91      0.91    113378\n",
            "weighted avg       0.92      0.92      0.92    113378\n",
            "\n",
            "================================================================\n"
          ]
        },
        {
          "output_type": "stream",
          "name": "stderr",
          "text": [
            "/usr/local/lib/python3.9/dist-packages/sklearn/svm/_base.py:1244: ConvergenceWarning: Liblinear failed to converge, increase the number of iterations.\n",
            "  warnings.warn(\n"
          ]
        },
        {
          "output_type": "stream",
          "name": "stdout",
          "text": [
            "Confusion Matrix :\n",
            " [[23154  2113  1979]\n",
            " [ 1308 37550  1627]\n",
            " [ 1584  1407 42656]]\n",
            "\n",
            "Test Set Accuracy Score :\n",
            " 0.9116407063098662\n",
            "\n",
            "Train Set Accuracy Score :\n",
            " 0.944719597802232\n",
            "\n",
            "Classification Report :\n",
            "               precision    recall  f1-score   support\n",
            "\n",
            "    negative       0.89      0.85      0.87     27246\n",
            "     neutral       0.91      0.93      0.92     40485\n",
            "    positive       0.92      0.93      0.93     45647\n",
            "\n",
            "    accuracy                           0.91    113378\n",
            "   macro avg       0.91      0.90      0.91    113378\n",
            "weighted avg       0.91      0.91      0.91    113378\n",
            "\n",
            "================================================================\n"
          ]
        }
      ]
    },
    {
      "cell_type": "code",
      "source": [
        "label_map = {'negative': 0, 'neutral': 1, 'positive': 2}\n",
        "y_train_emoji_int = [label_map[label] for label in y_train_no_emoji]\n",
        "y_test_emoji_int = [label_map[label] for label in y_test_no_emoji]\n",
        "\n",
        "# Now you can use the integer-encoded labels in the XGBoost pipeline\n",
        "classifier_xgb = Pipeline([('bag_of_words', CountVectorizer()),    \n",
        "                           ('clf', xgb.XGBClassifier())])\n",
        "\n",
        "classifier_xgb.fit(X_train_no_emoji, y_train_emoji_int)\n",
        "analyze(classifier_xgb, X_test_no_emoji, X_train_no_emoji, y_train_emoji_int, y_test_emoji_int)"
      ],
      "metadata": {
        "colab": {
          "base_uri": "https://localhost:8080/"
        },
        "id": "jzOefSk7gJnc",
        "outputId": "d534c9de-bfab-407a-f923-89acd6589c8d"
      },
      "execution_count": 26,
      "outputs": [
        {
          "output_type": "stream",
          "name": "stdout",
          "text": [
            "Confusion Matrix :\n",
            " [[15264  8965  2984]\n",
            " [  706 37827  1321]\n",
            " [ 1303  7678 36654]]\n",
            "\n",
            "Test Set Accuracy Score :\n",
            " 0.7963035261131125\n",
            "\n",
            "Train Set Accuracy Score :\n",
            " 0.8002401971683666\n",
            "\n",
            "Classification Report :\n",
            "               precision    recall  f1-score   support\n",
            "\n",
            "           0       0.88      0.56      0.69     27213\n",
            "           1       0.69      0.95      0.80     39854\n",
            "           2       0.89      0.80      0.85     45635\n",
            "\n",
            "    accuracy                           0.80    112702\n",
            "   macro avg       0.82      0.77      0.78    112702\n",
            "weighted avg       0.82      0.80      0.79    112702\n",
            "\n"
          ]
        }
      ]
    },
    {
      "cell_type": "code",
      "source": [
        "# Preprocess the text\n",
        "max_features = 2000\n",
        "tokenizer = Tokenizer(num_words=max_features, split=' ')\n",
        "tokenizer.fit_on_texts(df_no_emoji[\"processed_text\"].values)\n",
        "X = tokenizer.texts_to_sequences(df_no_emoji[\"processed_text\"].values)\n",
        "X = pad_sequences(X)\n",
        "\n",
        "# One-hot encode the labels\n",
        "Y = pd.get_dummies(df_no_emoji['sentiment']).values\n",
        "\n",
        "# Split the data into training and testing sets\n",
        "X_train, X_test, Y_train, Y_test = train_test_split(X, Y, test_size=0.15, random_state=42)\n",
        "\n",
        "# Define the LSTM model\n",
        "embed_dim = 128\n",
        "lstm_out = 196\n",
        "model = Sequential()\n",
        "model.add(Embedding(max_features, embed_dim, input_length=X.shape[1]))\n",
        "model.add(SpatialDropout1D(0.4))\n",
        "model.add(LSTM(lstm_out, dropout=0.2, recurrent_dropout=0.2))\n",
        "model.add(Dense(3, activation='softmax'))\n",
        "model.compile(loss='categorical_crossentropy', optimizer='adam', metrics=['accuracy'])\n",
        "print(model.summary())\n",
        "\n",
        "# Train the model\n",
        "batch_size = 64\n",
        "epochs = 7\n",
        "model.fit(X_train, Y_train, epochs=epochs, batch_size=batch_size, verbose=2)\n",
        "\n",
        "# Evaluate the model on the test set\n",
        "loss, accuracy = model.evaluate(X_test, Y_test)\n",
        "print('Test accuracy:', accuracy)"
      ],
      "metadata": {
        "colab": {
          "base_uri": "https://localhost:8080/"
        },
        "id": "mL8s7UBpbRnX",
        "outputId": "1d7c88d3-4655-4b8b-a203-1a37613cc453"
      },
      "execution_count": 10,
      "outputs": [
        {
          "output_type": "stream",
          "name": "stderr",
          "text": [
            "WARNING:tensorflow:Layer lstm will not use cuDNN kernels since it doesn't meet the criteria. It will use a generic GPU kernel as fallback when running on GPU.\n"
          ]
        },
        {
          "output_type": "stream",
          "name": "stdout",
          "text": [
            "Model: \"sequential\"\n",
            "_________________________________________________________________\n",
            " Layer (type)                Output Shape              Param #   \n",
            "=================================================================\n",
            " embedding (Embedding)       (None, 35, 128)           256000    \n",
            "                                                                 \n",
            " spatial_dropout1d (SpatialD  (None, 35, 128)          0         \n",
            " ropout1D)                                                       \n",
            "                                                                 \n",
            " lstm (LSTM)                 (None, 196)               254800    \n",
            "                                                                 \n",
            " dense (Dense)               (None, 3)                 591       \n",
            "                                                                 \n",
            "=================================================================\n",
            "Total params: 511,391\n",
            "Trainable params: 511,391\n",
            "Non-trainable params: 0\n",
            "_________________________________________________________________\n",
            "None\n",
            "Epoch 1/7\n",
            "9979/9979 - 1120s - loss: 0.4666 - accuracy: 0.8431 - 1120s/epoch - 112ms/step\n",
            "Epoch 2/7\n",
            "9979/9979 - 1092s - loss: 0.4190 - accuracy: 0.8621 - 1092s/epoch - 109ms/step\n",
            "Epoch 3/7\n",
            "9979/9979 - 1095s - loss: 0.4018 - accuracy: 0.8683 - 1095s/epoch - 110ms/step\n",
            "Epoch 4/7\n",
            "9979/9979 - 1100s - loss: 0.3902 - accuracy: 0.8726 - 1100s/epoch - 110ms/step\n",
            "Epoch 5/7\n",
            "9979/9979 - 1091s - loss: 0.3816 - accuracy: 0.8753 - 1091s/epoch - 109ms/step\n",
            "Epoch 6/7\n",
            "9979/9979 - 1095s - loss: 0.3761 - accuracy: 0.8774 - 1095s/epoch - 110ms/step\n",
            "Epoch 7/7\n",
            "9979/9979 - 1091s - loss: 0.3714 - accuracy: 0.8788 - 1091s/epoch - 109ms/step\n",
            "3522/3522 [==============================] - 43s 12ms/step - loss: 0.3835 - accuracy: 0.8766\n",
            "Test accuracy: 0.8765860199928284\n"
          ]
        }
      ]
    },
    {
      "cell_type": "markdown",
      "source": [
        "# Performance"
      ],
      "metadata": {
        "id": "GbsDXOgvt7lB"
      }
    },
    {
      "cell_type": "code",
      "source": [
        "df = pd.DataFrame({\n",
        "  'data': ['Text with emojis', 'Text with emoji descriptions', 'Text without emojis'],  \n",
        "  'Naive Bayes': [79.41, 78.5, 79.98],\n",
        "  'Logistic Regression':[91.5, 83.41, 91.39],\n",
        "  'Random Forest':[91.62, 91.13, 91.69],\n",
        "  'Linear SVC':[91.3, 91.01, 91.16],\n",
        "  'XGBoost':[79.73, 79.66, 79.63],\n",
        "  'LSTM':[87.03, np.nan, 87.65],\n",
        "})\n",
        "df = df.set_index('data')\n",
        "display(df)"
      ],
      "metadata": {
        "colab": {
          "base_uri": "https://localhost:8080/",
          "height": 171
        },
        "id": "tFhdbSEdt6cH",
        "outputId": "34edfdd7-281f-4c51-a492-b8b6e4c5f303"
      },
      "execution_count": 14,
      "outputs": [
        {
          "output_type": "display_data",
          "data": {
            "text/plain": [
              "                              Naive Bayes  Logistic Regression  Random Forest  \\\n",
              "data                                                                            \n",
              "Text with emojis                    79.41                91.50          91.62   \n",
              "Text with emoji descriptions        78.50                83.41          91.13   \n",
              "Text without emojis                 79.98                91.39          91.69   \n",
              "\n",
              "                              Linear SVC  XGBoost   LSTM  \n",
              "data                                                      \n",
              "Text with emojis                   91.30    79.73  87.03  \n",
              "Text with emoji descriptions       91.01    79.66    NaN  \n",
              "Text without emojis                91.16    79.63  87.65  "
            ],
            "text/html": [
              "\n",
              "  <div id=\"df-8d6b0e02-9f7d-472f-bf1e-c6e06ef5e799\">\n",
              "    <div class=\"colab-df-container\">\n",
              "      <div>\n",
              "<style scoped>\n",
              "    .dataframe tbody tr th:only-of-type {\n",
              "        vertical-align: middle;\n",
              "    }\n",
              "\n",
              "    .dataframe tbody tr th {\n",
              "        vertical-align: top;\n",
              "    }\n",
              "\n",
              "    .dataframe thead th {\n",
              "        text-align: right;\n",
              "    }\n",
              "</style>\n",
              "<table border=\"1\" class=\"dataframe\">\n",
              "  <thead>\n",
              "    <tr style=\"text-align: right;\">\n",
              "      <th></th>\n",
              "      <th>Naive Bayes</th>\n",
              "      <th>Logistic Regression</th>\n",
              "      <th>Random Forest</th>\n",
              "      <th>Linear SVC</th>\n",
              "      <th>XGBoost</th>\n",
              "      <th>LSTM</th>\n",
              "    </tr>\n",
              "    <tr>\n",
              "      <th>data</th>\n",
              "      <th></th>\n",
              "      <th></th>\n",
              "      <th></th>\n",
              "      <th></th>\n",
              "      <th></th>\n",
              "      <th></th>\n",
              "    </tr>\n",
              "  </thead>\n",
              "  <tbody>\n",
              "    <tr>\n",
              "      <th>Text with emojis</th>\n",
              "      <td>79.41</td>\n",
              "      <td>91.50</td>\n",
              "      <td>91.62</td>\n",
              "      <td>91.30</td>\n",
              "      <td>79.73</td>\n",
              "      <td>87.03</td>\n",
              "    </tr>\n",
              "    <tr>\n",
              "      <th>Text with emoji descriptions</th>\n",
              "      <td>78.50</td>\n",
              "      <td>83.41</td>\n",
              "      <td>91.13</td>\n",
              "      <td>91.01</td>\n",
              "      <td>79.66</td>\n",
              "      <td>NaN</td>\n",
              "    </tr>\n",
              "    <tr>\n",
              "      <th>Text without emojis</th>\n",
              "      <td>79.98</td>\n",
              "      <td>91.39</td>\n",
              "      <td>91.69</td>\n",
              "      <td>91.16</td>\n",
              "      <td>79.63</td>\n",
              "      <td>87.65</td>\n",
              "    </tr>\n",
              "  </tbody>\n",
              "</table>\n",
              "</div>\n",
              "      <button class=\"colab-df-convert\" onclick=\"convertToInteractive('df-8d6b0e02-9f7d-472f-bf1e-c6e06ef5e799')\"\n",
              "              title=\"Convert this dataframe to an interactive table.\"\n",
              "              style=\"display:none;\">\n",
              "        \n",
              "  <svg xmlns=\"http://www.w3.org/2000/svg\" height=\"24px\"viewBox=\"0 0 24 24\"\n",
              "       width=\"24px\">\n",
              "    <path d=\"M0 0h24v24H0V0z\" fill=\"none\"/>\n",
              "    <path d=\"M18.56 5.44l.94 2.06.94-2.06 2.06-.94-2.06-.94-.94-2.06-.94 2.06-2.06.94zm-11 1L8.5 8.5l.94-2.06 2.06-.94-2.06-.94L8.5 2.5l-.94 2.06-2.06.94zm10 10l.94 2.06.94-2.06 2.06-.94-2.06-.94-.94-2.06-.94 2.06-2.06.94z\"/><path d=\"M17.41 7.96l-1.37-1.37c-.4-.4-.92-.59-1.43-.59-.52 0-1.04.2-1.43.59L10.3 9.45l-7.72 7.72c-.78.78-.78 2.05 0 2.83L4 21.41c.39.39.9.59 1.41.59.51 0 1.02-.2 1.41-.59l7.78-7.78 2.81-2.81c.8-.78.8-2.07 0-2.86zM5.41 20L4 18.59l7.72-7.72 1.47 1.35L5.41 20z\"/>\n",
              "  </svg>\n",
              "      </button>\n",
              "      \n",
              "  <style>\n",
              "    .colab-df-container {\n",
              "      display:flex;\n",
              "      flex-wrap:wrap;\n",
              "      gap: 12px;\n",
              "    }\n",
              "\n",
              "    .colab-df-convert {\n",
              "      background-color: #E8F0FE;\n",
              "      border: none;\n",
              "      border-radius: 50%;\n",
              "      cursor: pointer;\n",
              "      display: none;\n",
              "      fill: #1967D2;\n",
              "      height: 32px;\n",
              "      padding: 0 0 0 0;\n",
              "      width: 32px;\n",
              "    }\n",
              "\n",
              "    .colab-df-convert:hover {\n",
              "      background-color: #E2EBFA;\n",
              "      box-shadow: 0px 1px 2px rgba(60, 64, 67, 0.3), 0px 1px 3px 1px rgba(60, 64, 67, 0.15);\n",
              "      fill: #174EA6;\n",
              "    }\n",
              "\n",
              "    [theme=dark] .colab-df-convert {\n",
              "      background-color: #3B4455;\n",
              "      fill: #D2E3FC;\n",
              "    }\n",
              "\n",
              "    [theme=dark] .colab-df-convert:hover {\n",
              "      background-color: #434B5C;\n",
              "      box-shadow: 0px 1px 3px 1px rgba(0, 0, 0, 0.15);\n",
              "      filter: drop-shadow(0px 1px 2px rgba(0, 0, 0, 0.3));\n",
              "      fill: #FFFFFF;\n",
              "    }\n",
              "  </style>\n",
              "\n",
              "      <script>\n",
              "        const buttonEl =\n",
              "          document.querySelector('#df-8d6b0e02-9f7d-472f-bf1e-c6e06ef5e799 button.colab-df-convert');\n",
              "        buttonEl.style.display =\n",
              "          google.colab.kernel.accessAllowed ? 'block' : 'none';\n",
              "\n",
              "        async function convertToInteractive(key) {\n",
              "          const element = document.querySelector('#df-8d6b0e02-9f7d-472f-bf1e-c6e06ef5e799');\n",
              "          const dataTable =\n",
              "            await google.colab.kernel.invokeFunction('convertToInteractive',\n",
              "                                                     [key], {});\n",
              "          if (!dataTable) return;\n",
              "\n",
              "          const docLinkHtml = 'Like what you see? Visit the ' +\n",
              "            '<a target=\"_blank\" href=https://colab.research.google.com/notebooks/data_table.ipynb>data table notebook</a>'\n",
              "            + ' to learn more about interactive tables.';\n",
              "          element.innerHTML = '';\n",
              "          dataTable['output_type'] = 'display_data';\n",
              "          await google.colab.output.renderOutput(dataTable, element);\n",
              "          const docLink = document.createElement('div');\n",
              "          docLink.innerHTML = docLinkHtml;\n",
              "          element.appendChild(docLink);\n",
              "        }\n",
              "      </script>\n",
              "    </div>\n",
              "  </div>\n",
              "  "
            ]
          },
          "metadata": {}
        }
      ]
    }
  ]
}